{
 "cells": [
  {
   "cell_type": "code",
   "execution_count": 1,
   "metadata": {
    "collapsed": true
   },
   "outputs": [],
   "source": [
    "from pyspark.ml import Pipeline\n",
    "from pyspark.ml.feature import HashingTF, Tokenizer\n",
    "from pyspark.sql import Row\n",
    "from pyspark.sql.functions import UserDefinedFunction\n",
    "from pyspark.sql.types import *"
   ]
  },
  {
   "cell_type": "code",
   "execution_count": 2,
   "metadata": {
    "collapsed": true
   },
   "outputs": [],
   "source": [
    "spark = SparkSession.builder.appName('GroundWaterApp').getOrCreate()\n",
    "df = spark.read.csv('/GroundWater/Fluoride.csv', inferSchema=True, header = True)"
   ]
  },
  {
   "cell_type": "code",
   "execution_count": 3,
   "metadata": {
    "collapsed": false
   },
   "outputs": [
    {
     "data": {
      "text/plain": [
       "[Row(Sl No=1, District=u'Bagalkot', Block=u'Beelagi', Location=u'Teggi', Fluoride=2.5)]"
      ]
     },
     "execution_count": 3,
     "metadata": {},
     "output_type": "execute_result"
    }
   ],
   "source": [
    "df.take(1)"
   ]
  },
  {
   "cell_type": "code",
   "execution_count": 4,
   "metadata": {
    "collapsed": true
   },
   "outputs": [],
   "source": [
    "df.registerTempTable('FluorideCopy')"
   ]
  },
  {
   "cell_type": "code",
   "execution_count": 5,
   "metadata": {
    "collapsed": false
   },
   "outputs": [
    {
     "name": "stdout",
     "output_type": "stream",
     "text": [
      "+-----+--------------+----------------+--------------------+--------+\n",
      "|Sl No|      District|           Block|            Location|Fluoride|\n",
      "+-----+--------------+----------------+--------------------+--------+\n",
      "|    1|      Bagalkot|         Beelagi|               Teggi|     2.5|\n",
      "|    2|      Bagalkot|           Bilgi|               Bilgi|     2.3|\n",
      "|    3|      Bagalkot|       Hunugunda|            Amingarh|     4.4|\n",
      "|    4|      Bagalkot|       Hunugunda|         Binjawadige|     4.2|\n",
      "|    5|      Bagalkot|       Hunugunda|               Ilkal|     4.2|\n",
      "|    6|      Bagalkot|       Hunugunda|             Kodihal|     2.6|\n",
      "|    7|      Bagalkot|       Hunugunda|          Nandwadige|     1.7|\n",
      "|    8|      Bagalkot|       Hunugunda|                Tumb|     1.5|\n",
      "|    9|     Bangalore|  Doddaballapura|         S.S. Ghatti|     2.2|\n",
      "|   10|     Bangalore|      Kanakapura|              Hegnur|     2.2|\n",
      "|   11|     Bangalore|          Magadi|Guddamarna Hali C...|     1.5|\n",
      "|   12|     Bangalore|        Ramnagar|            Kalancha|     2.0|\n",
      "|   13|        Belary|         Bellary|         Alipuram-Ii|     2.0|\n",
      "|   14|        Belary|         Bellary|            Kurugodu|     2.2|\n",
      "|   15|        Belary|         Bellary|            Sindgeri|     1.5|\n",
      "|   16|        Belary|       Hadagalli|           Varadapur|     1.8|\n",
      "|   17|        Belary|          Hospet|               Hampi|     2.0|\n",
      "|   18|        Belary|          Hospet|         Kamalapuram|     2.5|\n",
      "|   19|        Belary|          Hospet|       Maryamanhalli|     1.6|\n",
      "|   20|       Belgaum|           Gokak|               Gokak|     2.0|\n",
      "|   21|       Belgaum|       Saundatti|               Halki|     1.9|\n",
      "|   22|         Bidar|           Bidar|               Bidar|     2.7|\n",
      "|   23|       Bijapur|        Bagewadi|      Huvinahippargi|     2.8|\n",
      "|   24|       Bijapur|        Bagewadi|           Nidugundi|     4.9|\n",
      "|   25|       Bijapur|        Bagewadi|              Ukkali|     1.7|\n",
      "|   26|       Bijapur|         Bijapur|              Teligi|     1.6|\n",
      "|   27|       Bijapur|         Bijapur|              Tikota|     1.7|\n",
      "|   28|       Bijapur|            Indi|            Chadchan|     2.3|\n",
      "|   29|       Bijapur|            Indi|             Nadkurd|     2.5|\n",
      "|   30|       Bijapur|            Indi|        Newdhulikhed|     2.2|\n",
      "|   31|       Bijapur|            Indi|              Nimbal|     3.9|\n",
      "|   32|       Bijapur|            Indi|             Solotgi|     1.6|\n",
      "|   33|       Bijapur|            Indi|               Tamba|     2.9|\n",
      "|   34|       Bijapur|      Muddebihal|      Devar Hulagbal|     1.6|\n",
      "|   35|       Bijapur|      Muddebihal|             Nebgeri|     2.0|\n",
      "|   36|       Bijapur|      Muddebihal|            Tangadgi|     3.2|\n",
      "|   37|       Bijapur|          Sindgi|            Shivangi|     1.8|\n",
      "|   38|Chamarajanagar|       Gundlupet|               Begur|     1.8|\n",
      "|   39|Chamarajanagar|        Kollegal|              Maddur|     1.6|\n",
      "|   40|   Chikmagalur|        Tarikere|        Ajjampura'a'|     1.6|\n",
      "|   41|   Chitradurga|     Chitradurga|         Chitradurga|     2.2|\n",
      "|   42|   Chitradurga|       Hosadurga|          Hosa Durga|     4.3|\n",
      "|   43|   Chitradurga|       Hosadurga|          Narasepura|     1.5|\n",
      "|   44|     Davangere|       Davangere|         Dodda Batti|     1.6|\n",
      "|   45|     Davangere|   Harapanahalli|            Arsikere|     1.6|\n",
      "|   46|     Davangere|   Harapanahalli|          Chikahalli|     1.8|\n",
      "|   47|     Davangere|         Jagalur|             Jagalur|     1.5|\n",
      "|   48|       Dharwad|         Dharwar|            Aravatgi|     3.3|\n",
      "|   49|       Dharwad|         Dharwar|               Mugad|     1.9|\n",
      "|   50|       Dharwad|        Kalhatgi|           Devikoppa|     2.5|\n",
      "|   51|       Dharwad|         Kundgol|             Gudgeri|     2.0|\n",
      "|   52|       Dharwad|       Navalgund|            Annigeri|     1.6|\n",
      "|   53|         Gadag|           Gadag|           Chikkoppa|     2.8|\n",
      "|   54|         Gadag|           Gadag|             Hulkoti|     2.3|\n",
      "|   55|         Gadag|           Gadag|        Nagasamisdra|     2.6|\n",
      "|   56|         Gadag|        Mundargi|            Mundargi|     2.9|\n",
      "|   57|         Gadag|      Shirahatti|              Magadi|     4.0|\n",
      "|   58|         Gadag|      Shirahatti|             Ramgeri|     3.5|\n",
      "|   59|      Gulbarga|        Gulbarga|           Ferozabad|     1.8|\n",
      "|   60|      Gulbarga|         Jevargi|              Mudbal|    2.28|\n",
      "|   61|      Gulbarga|         Jevargi|            Revannur|    1.62|\n",
      "|   62|      Gulbarga|        Shahapur|        Dorana Halli|     1.8|\n",
      "|   63|      Gulbarga|        Shahapur|         Hattiguddar|     4.0|\n",
      "|   64|      Gulbarga|        Shahapur|             Madarki|    1.98|\n",
      "|   65|      Gulbarga|        Shorapur|             Kakkeri|    1.79|\n",
      "|   66|      Gulbarga|        Shorapur|             Kodekal|    2.76|\n",
      "|   67|      Gulbarga|        Shorapur|            Malla(K)|    1.55|\n",
      "|   68|      Gulbarga|        Shorapur|          Narayanpur|    3.12|\n",
      "|   69|      Gulbarga|        Shorapur|            Shantpur|    1.73|\n",
      "|   70|        Haveri|         Hanagal|         Hanmankoppa|     1.6|\n",
      "|   71|         Kolar|       Mulabagal|           Tatikallu|     1.5|\n",
      "|   72|        Koppal|      Gangavathi| Hosabandiharla Pura|     1.7|\n",
      "|   73|        Koppal|      Gangavathi|          Huli Hyder|     2.6|\n",
      "|   74|        Koppal|      Gangavathi|          Kanakagiri|     4.1|\n",
      "|   75|        Koppal|      Gangavathi|    Khatagpur Khalga|     2.0|\n",
      "|   76|        Koppal|      Gangavathi|            Muslapur|     2.1|\n",
      "|   77|        Koppal|          Koppal|           Hosahalli|     2.6|\n",
      "|   78|        Koppal|          Koppal|              Koppal|     1.6|\n",
      "|   79|        Koppal|        Kushtagi|          Kyadiguppa|     2.7|\n",
      "|   80|        Koppal|        Kushtagi|           Towaragar|     1.8|\n",
      "|   81|        Koppal|        Yelburga|               Bandi|     1.6|\n",
      "|   82|        Koppal|        Yelburga|             Halgere|     2.5|\n",
      "|   83|        Mandya|          Maddur|               Madur|     2.3|\n",
      "|   84|        Mandya|     Nagamangala|       Karadha Halli|     1.6|\n",
      "|   85|        Mysore|Krishnarajanagar|           Saligrama|     1.5|\n",
      "|   86|       Raichur|        Deodurga|            Kakargal|     1.6|\n",
      "|   87|       Raichur|        Linsugur|              Chatra|     4.1|\n",
      "|   88|       Raichur|       Sindhanur|             Gudadur|     1.6|\n",
      "|   89|       Raichur|       Sindhanur|          Jawalagere|     4.7|\n",
      "|   90|       Raichur|       Sindhanur|            Kalmangi|     2.3|\n",
      "|   91|       Raichur|       Sindhanur|            Turvihal|     4.1|\n",
      "|   92|        Tumkur|       Madhugiri|    Badavanahalli(A)|     1.6|\n",
      "|   93|        Tumkur|          Tiptur|            Halkurki|     1.5|\n",
      "+-----+--------------+----------------+--------------------+--------+\n",
      "\n"
     ]
    }
   ],
   "source": [
    "df.show(100)"
   ]
  },
  {
   "cell_type": "code",
   "execution_count": 6,
   "metadata": {
    "collapsed": false,
    "scrolled": false
   },
   "outputs": [
    {
     "name": "stdout",
     "output_type": "stream",
     "text": [
      "root\n",
      " |-- Sl No: integer (nullable = true)\n",
      " |-- District: string (nullable = true)\n",
      " |-- Block: string (nullable = true)\n",
      " |-- Location: string (nullable = true)\n",
      " |-- Fluoride: double (nullable = true)\n",
      "\n"
     ]
    }
   ],
   "source": [
    "df.printSchema()"
   ]
  },
  {
   "cell_type": "code",
   "execution_count": 7,
   "metadata": {
    "collapsed": false
   },
   "outputs": [
    {
     "data": {
      "text/plain": [
       "DataFrame[summary: string, Sl No: string, District: string, Block: string, Location: string, Fluoride: string]"
      ]
     },
     "execution_count": 7,
     "metadata": {},
     "output_type": "execute_result"
    }
   ],
   "source": [
    "df.describe()"
   ]
  },
  {
   "cell_type": "code",
   "execution_count": 8,
   "metadata": {
    "collapsed": false
   },
   "outputs": [
    {
     "name": "stdout",
     "output_type": "stream",
     "text": [
      "+-------+------------------+\n",
      "|summary|          Fluoride|\n",
      "+-------+------------------+\n",
      "|  count|                93|\n",
      "|   mean|2.3315053763440847|\n",
      "| stddev|0.8800592201375095|\n",
      "|    min|               1.5|\n",
      "|    max|               4.9|\n",
      "+-------+------------------+\n",
      "\n"
     ]
    }
   ],
   "source": [
    "df.describe('Fluoride').show()"
   ]
  },
  {
   "cell_type": "code",
   "execution_count": 9,
   "metadata": {
    "collapsed": false
   },
   "outputs": [
    {
     "name": "stdout",
     "output_type": "stream",
     "text": [
      "+-----+-----------+--------------+--------------+--------+\n",
      "|Sl No|   District|         Block|      Location|Fluoride|\n",
      "+-----+-----------+--------------+--------------+--------+\n",
      "|    1|   Bagalkot|       Beelagi|         Teggi|     2.5|\n",
      "|    2|   Bagalkot|         Bilgi|         Bilgi|     2.3|\n",
      "|    3|   Bagalkot|     Hunugunda|      Amingarh|     4.4|\n",
      "|    4|   Bagalkot|     Hunugunda|   Binjawadige|     4.2|\n",
      "|    5|   Bagalkot|     Hunugunda|         Ilkal|     4.2|\n",
      "|    6|   Bagalkot|     Hunugunda|       Kodihal|     2.6|\n",
      "|    9|  Bangalore|Doddaballapura|   S.S. Ghatti|     2.2|\n",
      "|   10|  Bangalore|    Kanakapura|        Hegnur|     2.2|\n",
      "|   14|     Belary|       Bellary|      Kurugodu|     2.2|\n",
      "|   18|     Belary|        Hospet|   Kamalapuram|     2.5|\n",
      "|   22|      Bidar|         Bidar|         Bidar|     2.7|\n",
      "|   23|    Bijapur|      Bagewadi|Huvinahippargi|     2.8|\n",
      "|   24|    Bijapur|      Bagewadi|     Nidugundi|     4.9|\n",
      "|   28|    Bijapur|          Indi|      Chadchan|     2.3|\n",
      "|   29|    Bijapur|          Indi|       Nadkurd|     2.5|\n",
      "|   30|    Bijapur|          Indi|  Newdhulikhed|     2.2|\n",
      "|   31|    Bijapur|          Indi|        Nimbal|     3.9|\n",
      "|   33|    Bijapur|          Indi|         Tamba|     2.9|\n",
      "|   36|    Bijapur|    Muddebihal|      Tangadgi|     3.2|\n",
      "|   41|Chitradurga|   Chitradurga|   Chitradurga|     2.2|\n",
      "|   42|Chitradurga|     Hosadurga|    Hosa Durga|     4.3|\n",
      "|   48|    Dharwad|       Dharwar|      Aravatgi|     3.3|\n",
      "|   50|    Dharwad|      Kalhatgi|     Devikoppa|     2.5|\n",
      "|   53|      Gadag|         Gadag|     Chikkoppa|     2.8|\n",
      "|   54|      Gadag|         Gadag|       Hulkoti|     2.3|\n",
      "|   55|      Gadag|         Gadag|  Nagasamisdra|     2.6|\n",
      "|   56|      Gadag|      Mundargi|      Mundargi|     2.9|\n",
      "|   57|      Gadag|    Shirahatti|        Magadi|     4.0|\n",
      "|   58|      Gadag|    Shirahatti|       Ramgeri|     3.5|\n",
      "|   60|   Gulbarga|       Jevargi|        Mudbal|    2.28|\n",
      "|   63|   Gulbarga|      Shahapur|   Hattiguddar|     4.0|\n",
      "|   66|   Gulbarga|      Shorapur|       Kodekal|    2.76|\n",
      "|   68|   Gulbarga|      Shorapur|    Narayanpur|    3.12|\n",
      "|   73|     Koppal|    Gangavathi|    Huli Hyder|     2.6|\n",
      "|   74|     Koppal|    Gangavathi|    Kanakagiri|     4.1|\n",
      "|   76|     Koppal|    Gangavathi|      Muslapur|     2.1|\n",
      "|   77|     Koppal|        Koppal|     Hosahalli|     2.6|\n",
      "|   79|     Koppal|      Kushtagi|    Kyadiguppa|     2.7|\n",
      "|   82|     Koppal|      Yelburga|       Halgere|     2.5|\n",
      "|   83|     Mandya|        Maddur|         Madur|     2.3|\n",
      "|   87|    Raichur|      Linsugur|        Chatra|     4.1|\n",
      "|   89|    Raichur|     Sindhanur|    Jawalagere|     4.7|\n",
      "|   90|    Raichur|     Sindhanur|      Kalmangi|     2.3|\n",
      "|   91|    Raichur|     Sindhanur|      Turvihal|     4.1|\n",
      "+-----+-----------+--------------+--------------+--------+\n",
      "\n"
     ]
    }
   ],
   "source": [
    "df.filter(df['fluoride'] > 2.0).show(50)"
   ]
  },
  {
   "cell_type": "code",
   "execution_count": 10,
   "metadata": {
    "collapsed": false
   },
   "outputs": [],
   "source": [
    "import pandas as pd\n",
    "pandas_df = df.toPandas()"
   ]
  },
  {
   "cell_type": "code",
   "execution_count": 11,
   "metadata": {
    "collapsed": false
   },
   "outputs": [
    {
     "data": {
      "text/plain": [
       "(0, 93)"
      ]
     },
     "execution_count": 11,
     "metadata": {},
     "output_type": "execute_result"
    },
    {
     "data": {
      "image/png": "[encoded data removed]",
      "text/plain": [
       "<matplotlib.figure.Figure at 0xaeb6f60>"
      ]
     },
     "metadata": {},
     "output_type": "display_data"
    }
   ],
   "source": [
    "import matplotlib.pyplot as plt\n",
    "%matplotlib inline\n",
    "fig=plt.figure(figsize=(18,7),dpi=100)\n",
    "plt.plot(pandas_df['Sl No'],pandas_df['Fluoride'])\n",
    "plt.scatter(pandas_df['Sl No'],pandas_df['Fluoride'],color=['blue'])\n",
    "plt.xlabel('Sl No',color='black')\n",
    "plt.ylabel('Fluoride(mg/L)',color='black')\n",
    "plt.title('Fluoride vs Sl No',color='black')\n",
    "plt.xlim(0,93)\n",
    "#plt.savefig('scatter Fluoride')"
   ]
  },
  {
   "cell_type": "code",
   "execution_count": 12,
   "metadata": {
    "collapsed": false
   },
   "outputs": [
    {
     "data": {
      "text/plain": [
       "(0.5, 93)"
      ]
     },
     "execution_count": 12,
     "metadata": {},
     "output_type": "execute_result"
    },
    {
     "data": {
      "image/png": "[encoded data removed]",
      "text/plain": [
       "<matplotlib.figure.Figure at 0xa157cc0>"
      ]
     },
     "metadata": {},
     "output_type": "display_data"
    }
   ],
   "source": [
    "import matplotlib.pyplot as plt\n",
    "%matplotlib inline\n",
    "fig=plt.figure(figsize=(18,7),dpi=100)\n",
    "plt.bar(pandas_df['Sl No'],pandas_df['Fluoride'],color=['blue'])\n",
    "plt.xlabel('Sl No',color='black')\n",
    "plt.ylabel('Fluoride(mg/L)',color='black')\n",
    "plt.title('Fluoride vs Sl No',color='black')\n",
    "plt.xlim(0.5,93)\n",
    "#plt.savefig('bar Fluoride')"
   ]
  },
  {
   "cell_type": "code",
   "execution_count": 13,
   "metadata": {
    "collapsed": false
   },
   "outputs": [],
   "source": [
    "df.createOrReplaceTempView(\"Karnataka1\")"
   ]
  },
  {
   "cell_type": "code",
   "execution_count": 14,
   "metadata": {
    "collapsed": false
   },
   "outputs": [
    {
     "name": "stdout",
     "output_type": "stream",
     "text": [
      "+-----------+----------------+--------+\n",
      "|   District|           Block|Fluoride|\n",
      "+-----------+----------------+--------+\n",
      "|   Bagalkot|       Hunugunda|     1.5|\n",
      "|  Bangalore|          Magadi|     1.5|\n",
      "|     Belary|         Bellary|     1.5|\n",
      "|Chitradurga|       Hosadurga|     1.5|\n",
      "|  Davangere|         Jagalur|     1.5|\n",
      "|      Kolar|       Mulabagal|     1.5|\n",
      "|     Mysore|Krishnarajanagar|     1.5|\n",
      "|     Tumkur|          Tiptur|     1.5|\n",
      "+-----------+----------------+--------+\n",
      "\n"
     ]
    }
   ],
   "source": [
    "fluoridelowlevel = spark.sql(\"SELECT District,Block,Fluoride FROM Karnataka1 WHERE Fluoride BETWEEN 1.2 AND 1.5\")\n",
    "fluoridelowlevel.show()"
   ]
  },
  {
   "cell_type": "code",
   "execution_count": 15,
   "metadata": {
    "collapsed": false
   },
   "outputs": [
    {
     "name": "stdout",
     "output_type": "stream",
     "text": [
      "+--------------+--------------+--------+\n",
      "|      District|         Block|Fluoride|\n",
      "+--------------+--------------+--------+\n",
      "|      Bagalkot|       Beelagi|     2.5|\n",
      "|      Bagalkot|         Bilgi|     2.3|\n",
      "|      Bagalkot|     Hunugunda|     2.6|\n",
      "|      Bagalkot|     Hunugunda|     1.7|\n",
      "|     Bangalore|Doddaballapura|     2.2|\n",
      "|     Bangalore|    Kanakapura|     2.2|\n",
      "|     Bangalore|      Ramnagar|     2.0|\n",
      "|        Belary|       Bellary|     2.0|\n",
      "|        Belary|       Bellary|     2.2|\n",
      "|        Belary|     Hadagalli|     1.8|\n",
      "|        Belary|        Hospet|     2.0|\n",
      "|        Belary|        Hospet|     2.5|\n",
      "|        Belary|        Hospet|     1.6|\n",
      "|       Belgaum|         Gokak|     2.0|\n",
      "|       Belgaum|     Saundatti|     1.9|\n",
      "|         Bidar|         Bidar|     2.7|\n",
      "|       Bijapur|      Bagewadi|     2.8|\n",
      "|       Bijapur|      Bagewadi|     1.7|\n",
      "|       Bijapur|       Bijapur|     1.6|\n",
      "|       Bijapur|       Bijapur|     1.7|\n",
      "|       Bijapur|          Indi|     2.3|\n",
      "|       Bijapur|          Indi|     2.5|\n",
      "|       Bijapur|          Indi|     2.2|\n",
      "|       Bijapur|          Indi|     1.6|\n",
      "|       Bijapur|          Indi|     2.9|\n",
      "|       Bijapur|    Muddebihal|     1.6|\n",
      "|       Bijapur|    Muddebihal|     2.0|\n",
      "|       Bijapur|        Sindgi|     1.8|\n",
      "|Chamarajanagar|     Gundlupet|     1.8|\n",
      "|Chamarajanagar|      Kollegal|     1.6|\n",
      "|   Chikmagalur|      Tarikere|     1.6|\n",
      "|   Chitradurga|   Chitradurga|     2.2|\n",
      "|     Davangere|     Davangere|     1.6|\n",
      "|     Davangere| Harapanahalli|     1.6|\n",
      "|     Davangere| Harapanahalli|     1.8|\n",
      "|       Dharwad|       Dharwar|     1.9|\n",
      "|       Dharwad|      Kalhatgi|     2.5|\n",
      "|       Dharwad|       Kundgol|     2.0|\n",
      "|       Dharwad|     Navalgund|     1.6|\n",
      "|         Gadag|         Gadag|     2.8|\n",
      "|         Gadag|         Gadag|     2.3|\n",
      "|         Gadag|         Gadag|     2.6|\n",
      "|         Gadag|      Mundargi|     2.9|\n",
      "|      Gulbarga|      Gulbarga|     1.8|\n",
      "|      Gulbarga|       Jevargi|    2.28|\n",
      "|      Gulbarga|       Jevargi|    1.62|\n",
      "|      Gulbarga|      Shahapur|     1.8|\n",
      "|      Gulbarga|      Shahapur|    1.98|\n",
      "|      Gulbarga|      Shorapur|    1.79|\n",
      "|      Gulbarga|      Shorapur|    2.76|\n",
      "|      Gulbarga|      Shorapur|    1.73|\n",
      "|        Haveri|       Hanagal|     1.6|\n",
      "|        Koppal|    Gangavathi|     1.7|\n",
      "|        Koppal|    Gangavathi|     2.6|\n",
      "|        Koppal|    Gangavathi|     2.0|\n",
      "|        Koppal|    Gangavathi|     2.1|\n",
      "|        Koppal|        Koppal|     2.6|\n",
      "|        Koppal|        Koppal|     1.6|\n",
      "|        Koppal|      Kushtagi|     2.7|\n",
      "|        Koppal|      Kushtagi|     1.8|\n",
      "|        Koppal|      Yelburga|     1.6|\n",
      "|        Koppal|      Yelburga|     2.5|\n",
      "|        Mandya|        Maddur|     2.3|\n",
      "|        Mandya|   Nagamangala|     1.6|\n",
      "|       Raichur|      Deodurga|     1.6|\n",
      "|       Raichur|     Sindhanur|     1.6|\n",
      "|       Raichur|     Sindhanur|     2.3|\n",
      "|        Tumkur|     Madhugiri|     1.6|\n",
      "+--------------+--------------+--------+\n",
      "\n"
     ]
    }
   ],
   "source": [
    "fluoridemediumlevel = spark.sql(\"SELECT District,Block,Fluoride FROM Karnataka1 WHERE Fluoride BETWEEN 1.6 AND 3.0\")\n",
    "fluoridemediumlevel.show(100)"
   ]
  },
  {
   "cell_type": "code",
   "execution_count": 16,
   "metadata": {
    "collapsed": false
   },
   "outputs": [
    {
     "name": "stdout",
     "output_type": "stream",
     "text": [
      "+-----------+----------+--------+\n",
      "|   District|     Block|Fluoride|\n",
      "+-----------+----------+--------+\n",
      "|   Bagalkot| Hunugunda|     4.4|\n",
      "|   Bagalkot| Hunugunda|     4.2|\n",
      "|   Bagalkot| Hunugunda|     4.2|\n",
      "|    Bijapur|  Bagewadi|     4.9|\n",
      "|    Bijapur|      Indi|     3.9|\n",
      "|    Bijapur|Muddebihal|     3.2|\n",
      "|Chitradurga| Hosadurga|     4.3|\n",
      "|    Dharwad|   Dharwar|     3.3|\n",
      "|      Gadag|Shirahatti|     4.0|\n",
      "|      Gadag|Shirahatti|     3.5|\n",
      "|   Gulbarga|  Shahapur|     4.0|\n",
      "|   Gulbarga|  Shorapur|    3.12|\n",
      "|     Koppal|Gangavathi|     4.1|\n",
      "|    Raichur|  Linsugur|     4.1|\n",
      "|    Raichur| Sindhanur|     4.7|\n",
      "|    Raichur| Sindhanur|     4.1|\n",
      "+-----------+----------+--------+\n",
      "\n"
     ]
    }
   ],
   "source": [
    "fluoridehighlevel = spark.sql(\"SELECT District,Block,Fluoride FROM Karnataka1 WHERE Fluoride > 3.0\")\n",
    "fluoridehighlevel.show(100)"
   ]
  },
  {
   "cell_type": "code",
   "execution_count": 17,
   "metadata": {
    "collapsed": false
   },
   "outputs": [
    {
     "ename": "AnalysisException",
     "evalue": "u'path hdfs://localhost:9000/user/SYSTEM/fl_low.csv already exists.;'",
     "output_type": "error",
     "traceback": [
      "\u001b[1;31m---------------------------------------------------------------------------\u001b[0m",
      "\u001b[1;31mAnalysisException\u001b[0m                         Traceback (most recent call last)",
      "\u001b[1;32m<ipython-input-17-3951edaa9714>\u001b[0m in \u001b[0;36m<module>\u001b[1;34m()\u001b[0m\n\u001b[1;32m----> 1\u001b[1;33m \u001b[0mfluoridelowlevel\u001b[0m\u001b[1;33m.\u001b[0m\u001b[0mwrite\u001b[0m\u001b[1;33m.\u001b[0m\u001b[0mcsv\u001b[0m\u001b[1;33m(\u001b[0m\u001b[1;34m'fl_low.csv'\u001b[0m\u001b[1;33m)\u001b[0m\u001b[1;33m\u001b[0m\u001b[0m\n\u001b[0m",
      "\u001b[1;32mC:\\Syncfusion\\BigData\\3.2.0.20\\BigDataSDK\\SDK\\Spark\\python\\pyspark\\sql\\readwriter.pyc\u001b[0m in \u001b[0;36mcsv\u001b[1;34m(self, path, mode, compression, sep, quote, escape, header, nullValue, escapeQuotes, quoteAll, dateFormat, timestampFormat)\u001b[0m\n\u001b[0;32m    709\u001b[0m                        \u001b[0mnullValue\u001b[0m\u001b[1;33m=\u001b[0m\u001b[0mnullValue\u001b[0m\u001b[1;33m,\u001b[0m \u001b[0mescapeQuotes\u001b[0m\u001b[1;33m=\u001b[0m\u001b[0mescapeQuotes\u001b[0m\u001b[1;33m,\u001b[0m \u001b[0mquoteAll\u001b[0m\u001b[1;33m=\u001b[0m\u001b[0mquoteAll\u001b[0m\u001b[1;33m,\u001b[0m\u001b[1;33m\u001b[0m\u001b[0m\n\u001b[0;32m    710\u001b[0m                        dateFormat=dateFormat, timestampFormat=timestampFormat)\n\u001b[1;32m--> 711\u001b[1;33m         \u001b[0mself\u001b[0m\u001b[1;33m.\u001b[0m\u001b[0m_jwrite\u001b[0m\u001b[1;33m.\u001b[0m\u001b[0mcsv\u001b[0m\u001b[1;33m(\u001b[0m\u001b[0mpath\u001b[0m\u001b[1;33m)\u001b[0m\u001b[1;33m\u001b[0m\u001b[0m\n\u001b[0m\u001b[0;32m    712\u001b[0m \u001b[1;33m\u001b[0m\u001b[0m\n\u001b[0;32m    713\u001b[0m     \u001b[1;33m@\u001b[0m\u001b[0msince\u001b[0m\u001b[1;33m(\u001b[0m\u001b[1;36m1.5\u001b[0m\u001b[1;33m)\u001b[0m\u001b[1;33m\u001b[0m\u001b[0m\n",
      "\u001b[1;32mC:\\Syncfusion\\BigData\\3.2.0.20\\BigDataSDK\\SDK\\Spark\\python\\lib\\py4j-0.10.4-src.zip\\py4j\\java_gateway.py\u001b[0m in \u001b[0;36m__call__\u001b[1;34m(self, *args)\u001b[0m\n\u001b[0;32m   1131\u001b[0m         \u001b[0manswer\u001b[0m \u001b[1;33m=\u001b[0m \u001b[0mself\u001b[0m\u001b[1;33m.\u001b[0m\u001b[0mgateway_client\u001b[0m\u001b[1;33m.\u001b[0m\u001b[0msend_command\u001b[0m\u001b[1;33m(\u001b[0m\u001b[0mcommand\u001b[0m\u001b[1;33m)\u001b[0m\u001b[1;33m\u001b[0m\u001b[0m\n\u001b[0;32m   1132\u001b[0m         return_value = get_return_value(\n\u001b[1;32m-> 1133\u001b[1;33m             answer, self.gateway_client, self.target_id, self.name)\n\u001b[0m\u001b[0;32m   1134\u001b[0m \u001b[1;33m\u001b[0m\u001b[0m\n\u001b[0;32m   1135\u001b[0m         \u001b[1;32mfor\u001b[0m \u001b[0mtemp_arg\u001b[0m \u001b[1;32min\u001b[0m \u001b[0mtemp_args\u001b[0m\u001b[1;33m:\u001b[0m\u001b[1;33m\u001b[0m\u001b[0m\n",
      "\u001b[1;32mC:\\Syncfusion\\BigData\\3.2.0.20\\BigDataSDK\\SDK\\Spark\\python\\pyspark\\sql\\utils.pyc\u001b[0m in \u001b[0;36mdeco\u001b[1;34m(*a, **kw)\u001b[0m\n\u001b[0;32m     67\u001b[0m                                              e.java_exception.getStackTrace()))\n\u001b[0;32m     68\u001b[0m             \u001b[1;32mif\u001b[0m \u001b[0ms\u001b[0m\u001b[1;33m.\u001b[0m\u001b[0mstartswith\u001b[0m\u001b[1;33m(\u001b[0m\u001b[1;34m'org.apache.spark.sql.AnalysisException: '\u001b[0m\u001b[1;33m)\u001b[0m\u001b[1;33m:\u001b[0m\u001b[1;33m\u001b[0m\u001b[0m\n\u001b[1;32m---> 69\u001b[1;33m                 \u001b[1;32mraise\u001b[0m \u001b[0mAnalysisException\u001b[0m\u001b[1;33m(\u001b[0m\u001b[0ms\u001b[0m\u001b[1;33m.\u001b[0m\u001b[0msplit\u001b[0m\u001b[1;33m(\u001b[0m\u001b[1;34m': '\u001b[0m\u001b[1;33m,\u001b[0m \u001b[1;36m1\u001b[0m\u001b[1;33m)\u001b[0m\u001b[1;33m[\u001b[0m\u001b[1;36m1\u001b[0m\u001b[1;33m]\u001b[0m\u001b[1;33m,\u001b[0m \u001b[0mstackTrace\u001b[0m\u001b[1;33m)\u001b[0m\u001b[1;33m\u001b[0m\u001b[0m\n\u001b[0m\u001b[0;32m     70\u001b[0m             \u001b[1;32mif\u001b[0m \u001b[0ms\u001b[0m\u001b[1;33m.\u001b[0m\u001b[0mstartswith\u001b[0m\u001b[1;33m(\u001b[0m\u001b[1;34m'org.apache.spark.sql.catalyst.analysis'\u001b[0m\u001b[1;33m)\u001b[0m\u001b[1;33m:\u001b[0m\u001b[1;33m\u001b[0m\u001b[0m\n\u001b[0;32m     71\u001b[0m                 \u001b[1;32mraise\u001b[0m \u001b[0mAnalysisException\u001b[0m\u001b[1;33m(\u001b[0m\u001b[0ms\u001b[0m\u001b[1;33m.\u001b[0m\u001b[0msplit\u001b[0m\u001b[1;33m(\u001b[0m\u001b[1;34m': '\u001b[0m\u001b[1;33m,\u001b[0m \u001b[1;36m1\u001b[0m\u001b[1;33m)\u001b[0m\u001b[1;33m[\u001b[0m\u001b[1;36m1\u001b[0m\u001b[1;33m]\u001b[0m\u001b[1;33m,\u001b[0m \u001b[0mstackTrace\u001b[0m\u001b[1;33m)\u001b[0m\u001b[1;33m\u001b[0m\u001b[0m\n",
      "\u001b[1;31mAnalysisException\u001b[0m: u'path hdfs://localhost:9000/user/SYSTEM/fl_low.csv already exists.;'"
     ]
    }
   ],
   "source": [
    "fluoridelowlevel.write.csv('fl_low.csv')"
   ]
  },
  {
   "cell_type": "code",
   "execution_count": null,
   "metadata": {
    "collapsed": false
   },
   "outputs": [],
   "source": [
    "fluoridemediumlevel.write.csv('fl_med.csv')"
   ]
  },
  {
   "cell_type": "code",
   "execution_count": null,
   "metadata": {
    "collapsed": true
   },
   "outputs": [],
   "source": [
    "fluoridehighlevel.write.csv('fl_high.csv')"
   ]
  },
  {
   "cell_type": "code",
   "execution_count": null,
   "metadata": {
    "collapsed": false
   },
   "outputs": [],
   "source": [
    "df1 = spark.read.csv('/user/SYSTEM/fl_low.csv/low.csv', inferSchema=False, header = False)"
   ]
  },
  {
   "cell_type": "code",
   "execution_count": null,
   "metadata": {
    "collapsed": false
   },
   "outputs": [],
   "source": [
    "df1.printSchema()"
   ]
  },
  {
   "cell_type": "code",
   "execution_count": null,
   "metadata": {
    "collapsed": false
   },
   "outputs": [],
   "source": [
    "df1=df1.withColumnRenamed(\"_c0\",\"District\")\n",
    "df1=df1.withColumnRenamed(\"_c1\",\"Block\")\n",
    "df1=df1.withColumnRenamed(\"_c2\",\"Fluoride\")"
   ]
  },
  {
   "cell_type": "code",
   "execution_count": null,
   "metadata": {
    "collapsed": false
   },
   "outputs": [],
   "source": [
    "df1.show()"
   ]
  },
  {
   "cell_type": "code",
   "execution_count": null,
   "metadata": {
    "collapsed": false
   },
   "outputs": [],
   "source": [
    "df2 = spark.read.csv('/user/SYSTEM/fl_med.csv/med.csv', inferSchema=False, header = False)\n",
    "df2.show()"
   ]
  },
  {
   "cell_type": "code",
   "execution_count": null,
   "metadata": {
    "collapsed": false
   },
   "outputs": [],
   "source": [
    "df2 = df2.withColumnRenamed(\"_c0\",\"District\")\n",
    "df2 = df2.withColumnRenamed(\"_c1\",\"Block\")\n",
    "df2 = df2.withColumnRenamed(\"_c2\",\"Fluoride\")\n",
    "df2.show()"
   ]
  },
  {
   "cell_type": "code",
   "execution_count": null,
   "metadata": {
    "collapsed": false
   },
   "outputs": [],
   "source": [
    "df3 = spark.read.csv('/user/SYSTEM/fl_high.csv/high.csv', inferSchema=False, header = False)\n",
    "df3.show()"
   ]
  },
  {
   "cell_type": "code",
   "execution_count": null,
   "metadata": {
    "collapsed": false
   },
   "outputs": [],
   "source": [
    "df3 = df3.withColumnRenamed(\"_c0\",\"District\")\n",
    "df3 = df3.withColumnRenamed(\"_c1\",\"Block\")\n",
    "df3 = df3.withColumnRenamed(\"_c2\",\"Fluoride\")\n",
    "df3.show()"
   ]
  },
  {
   "cell_type": "code",
   "execution_count": null,
   "metadata": {
    "collapsed": true
   },
   "outputs": [],
   "source": []
  }
 ],
 "metadata": {
  "kernelspec": {
   "display_name": "Python 2",
   "language": "python",
   "name": "python2"
  },
  "language_info": {
   "codemirror_mode": {
    "name": "ipython",
    "version": 2
   },
   "file_extension": ".py",
   "mimetype": "text/x-python",
   "name": "python",
   "nbconvert_exporter": "python",
   "pygments_lexer": "ipython2",
   "version": "2.7.10"
  }
 },
 "nbformat": 4,
 "nbformat_minor": 0
}
