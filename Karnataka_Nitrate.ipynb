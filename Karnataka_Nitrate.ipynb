{
 "cells": [
  {
   "cell_type": "code",
   "execution_count": 12,
   "metadata": {
    "collapsed": true
   },
   "outputs": [],
   "source": [
    "from pyspark.ml import Pipeline\n",
    "from pyspark.ml.feature import HashingTF, Tokenizer\n",
    "from pyspark.sql import Row\n",
    "from pyspark.sql.functions import UserDefinedFunction\n",
    "from pyspark.sql.types import *"
   ]
  },
  {
   "cell_type": "code",
   "execution_count": 13,
   "metadata": {
    "collapsed": true
   },
   "outputs": [],
   "source": [
    "spark = SparkSession.builder.appName('GroundWaterApp').getOrCreate()\n",
    "df = spark.read.csv('/GroundWater/Nitrate.csv', inferSchema=True, header = True)"
   ]
  },
  {
   "cell_type": "code",
   "execution_count": 14,
   "metadata": {
    "collapsed": false
   },
   "outputs": [
    {
     "data": {
      "text/plain": [
       "[Row(Sl No=1, District=u'Bagalkot', Block=u'Badami', Location=u'Patadkal', Nitrate=61)]"
      ]
     },
     "execution_count": 14,
     "metadata": {},
     "output_type": "execute_result"
    }
   ],
   "source": [
    "df.take(1)"
   ]
  },
  {
   "cell_type": "code",
   "execution_count": 15,
   "metadata": {
    "collapsed": true
   },
   "outputs": [],
   "source": [
    "df.registerTempTable('NitrateCopy')"
   ]
  },
  {
   "cell_type": "code",
   "execution_count": 16,
   "metadata": {
    "collapsed": false
   },
   "outputs": [
    {
     "name": "stdout",
     "output_type": "stream",
     "text": [
      "+-----+-----------+---------------+-------------------+-------+\n",
      "|Sl No|   District|          Block|           Location|Nitrate|\n",
      "+-----+-----------+---------------+-------------------+-------+\n",
      "|    1|   Bagalkot|         Badami|           Patadkal|     61|\n",
      "|    2|   Bagalkot|       Bagalkot|              Bevur|     64|\n",
      "|    3|   Bagalkot|       Bagalkot|              Sirur|    179|\n",
      "|    4|   Bagalkot|        Beelagi|              Bilgi|     74|\n",
      "|    5|   Bagalkot|      Hunugunda|           Amingarh|    146|\n",
      "|    6|   Bagalkot|      Hunugunda|              Ilkal|    180|\n",
      "|    7|   Bagalkot|      Hunugunda|            Kodihal|    140|\n",
      "|    8|   Bagalkot|      Hunugunda|         Nandwadige|     55|\n",
      "|    9|   Bagalkot|      Hunugunda|               Tumb|     48|\n",
      "|   10|   Bagalkot|     Jamakhandi|              Algur|   1420|\n",
      "|   11|   Bagalkot|     Jamakhandi|            Kavatgi|     53|\n",
      "|   12|   Bagalkot|     Jamakhandi|            Savalgi|     66|\n",
      "|   13|   Bagalkot|         Mudhol|           Malapura|     90|\n",
      "|   14|  Bangalore|         Anekal|             Anekal|    145|\n",
      "|   15|  Bangalore|Bangalore North|        Bangalore I|     48|\n",
      "|   16|  Bangalore|Bangalore North|             Hebbal|     67|\n",
      "|   17|  Bangalore|    Devanahalli|             Avathi|    175|\n",
      "|   18|  Bangalore|    Devanahalli|     Viswanathapura|    109|\n",
      "|   19|  Bangalore| Doddaballapura|         Gollahalli|     47|\n",
      "|   20|  Bangalore| Doddaballapura|  Siddanaikanahalli|     97|\n",
      "|   21|  Bangalore|     Kanakapura|       Naikanahalli|    103|\n",
      "|   22|  Bangalore|    Nelamangala|   Adakimaranahally|     63|\n",
      "|   23|  Bangalore|       Ramnagar|          Kailancha|     90|\n",
      "|   24|    Bellary|        Bellary|       Allipuram Ii|    128|\n",
      "|   25|    Bellary|        Bellary|        Bisalahalli|     60|\n",
      "|   26|    Bellary|        Bellary|           Kurugodu|     82|\n",
      "|   27|    Bellary|         Hospet|              Hampi|    102|\n",
      "|   28|    Belgaum|         Athani|             Badchi|    242|\n",
      "|   29|    Belgaum|         Athani|             Halyal|     65|\n",
      "|   30|    Belgaum|         Athani|         Khotanatti|     46|\n",
      "|   31|    Belgaum|         Athani|          Nandagaon|    236|\n",
      "|   32|    Belgaum|     Bailhongal|         Bailhongal|     88|\n",
      "|   33|    Belgaum|        Belgaum|            Belgaum|     49|\n",
      "|   34|    Belgaum|        Chikodi|            Eskamba|    173|\n",
      "|   35|    Belgaum|        Chikodi|            Galatga|    133|\n",
      "|   36|    Belgaum|        Hukkeri|    Bellad Bagewadi|     52|\n",
      "|   37|    Belgaum|        Rayabag|          Chincholi|    130|\n",
      "|   38|    Belgaum|      Saundatti|          Mamadapur|     84|\n",
      "|   39|    Belgaum|      Saundatti|          Soundalga|     48|\n",
      "|   40|      Bidar|          Aurad|         Dongargaon|    137|\n",
      "|   41|      Bidar|          Aurad|           Wadegaon|    115|\n",
      "|   42|      Bidar|   Basavakalyan|             Mudebi|    200|\n",
      "|   43|      Bidar|   Basavakalyan|         Rajeshwara|     57|\n",
      "|   44|      Bidar|         Bhalki|             Bhalki|    128|\n",
      "|   45|      Bidar|         Bhalki|          Bhatamara|     89|\n",
      "|   46|      Bidar|         Bhalki|   Khanapur (Bidar)|     94|\n",
      "|   47|      Bidar|         Bhalki|            Morambi|     79|\n",
      "|   48|      Bidar|       Homnabad|           Changler|    205|\n",
      "|   49|      Bidar|       Homnabad|         Hallikheda|     56|\n",
      "|   50|      Bidar|       Homnabad|              Nirna|     47|\n",
      "|   51|    Bijapur|       Bagewadi|     Huvinahippargi|    280|\n",
      "|   52|    Bijapur|       Bagewadi|             Teligi|    163|\n",
      "|   53|    Bijapur|        Bijapur|          Honnutagi|    158|\n",
      "|   54|    Bijapur|        Bijapur|             Tikota|    109|\n",
      "|   55|    Bijapur|        Bijapur|              Torvi|     46|\n",
      "|   56|    Bijapur|           Indi|               Indi|    265|\n",
      "|   57|    Bijapur|           Indi|             Nimbal|    141|\n",
      "|   58|    Bijapur|     Muddebihal|          Hiremural|     95|\n",
      "|   59|    Bijapur|     Muddebihal|           Pettepur|    176|\n",
      "|   60|    Bijapur|         Sindgi|           Hanchali|    254|\n",
      "|   61|    Bijapur|         Sindgi|          Korahalli|     69|\n",
      "|   62|Chikmagalur|          Kadur|         Antargatta|     63|\n",
      "|   63|Chikmagalur|       Tarikere|       Ajjampur (A)|    127|\n",
      "|   64|Chitradurga|    Chitradurga|        Chitradurga|     64|\n",
      "|   65|Chitradurga|    Chitradurga|          Hartikote|    122|\n",
      "|   66|Chitradurga|    Chitradurga|      Siddavandurga|     63|\n",
      "|   67|Chitradurga|        Hiriyur|          Vaddikere|     58|\n",
      "|   68|Chitradurga|     Holalakere|           Arehalli|     88|\n",
      "|   69|Chitradurga|     Holalakere|              Talya|     92|\n",
      "|   70|Chitradurga|      Hosadurga|          Hosadurga|    142|\n",
      "|   71|Chitradurga|      Hosadurga|          Madatkeri|    129|\n",
      "|   72|Chitradurga|      Hosadurga|          Narsipura|    610|\n",
      "|   73|  Davangere|      Davangere|          Averegere|     72|\n",
      "|   74|  Davangere|  Harapanahalli|           Arsikere|    110|\n",
      "|   75|  Davangere|  Harapanahalli|       Harpanahalli|     50|\n",
      "|   76|  Davangere|       Harihara|         Karlahalli|     52|\n",
      "|   77|  Davangere|       Harihara|             Vasana|     85|\n",
      "|   78|  Davangere|        Jagalur|            Jagalur|    210|\n",
      "|   79|    Dharwad|        Dharwar|              Mugad|     48|\n",
      "|   80|    Dharwad|        Kundgol|            Gudgeri|    170|\n",
      "|   81|      Gadag|          Gadag|        Nagasamudra|    130|\n",
      "|   82|      Gadag|      Naragunda|          Belavanki|    104|\n",
      "|   83|      Gadag|     Shirahatti|           Belhatti|     82|\n",
      "|   84|      Gadag|     Shirahatti|            Ramgeri|    192|\n",
      "|   85|   Gulbarga|       Afzalpur|       Gobur Buzurg|    228|\n",
      "|   86|   Gulbarga|       Afzalpur|            Karajgi|    113|\n",
      "|   87|   Gulbarga|       Afzalpur|             Mashal|     60|\n",
      "|   88|   Gulbarga|          Aland|Kamlanagar (Bodhan)|    135|\n",
      "|   89|   Gulbarga|          Aland|           Ladmogli|     94|\n",
      "|   90|   Gulbarga|      Chincholi|              Kadli|    128|\n",
      "|   91|   Gulbarga|      Chincholi|             Kallur|     46|\n",
      "|   92|   Gulbarga|      Chincholi|  Kollur (Gulburga)|     58|\n",
      "|   93|   Gulbarga|       Chitapur|            Danduti|     98|\n",
      "|   94|   Gulbarga|       Chitapur|           Haldihal|     50|\n",
      "|   95|   Gulbarga|       Gulbarga|              Jogur|    132|\n",
      "|   96|   Gulbarga|       Gulbarga|             Pathan|    128|\n",
      "|   97|     Hassan|       Arkalgud|         Nilavagilu|     52|\n",
      "|   98|     Hassan|       Arsikere|          Arasikere|     68|\n",
      "|   99|     Hassan|       Arsikere|         Harnahalli|    162|\n",
      "|  100|     Hassan|          Belur|          Halebeedu|     54|\n",
      "+-----+-----------+---------------+-------------------+-------+\n",
      "only showing top 100 rows\n",
      "\n"
     ]
    }
   ],
   "source": [
    "df.show(100)"
   ]
  },
  {
   "cell_type": "code",
   "execution_count": 17,
   "metadata": {
    "collapsed": false,
    "scrolled": false
   },
   "outputs": [
    {
     "name": "stdout",
     "output_type": "stream",
     "text": [
      "root\n",
      " |-- Sl No: integer (nullable = true)\n",
      " |-- District: string (nullable = true)\n",
      " |-- Block: string (nullable = true)\n",
      " |-- Location: string (nullable = true)\n",
      " |-- Nitrate: integer (nullable = true)\n",
      "\n"
     ]
    }
   ],
   "source": [
    "df.printSchema()"
   ]
  },
  {
   "cell_type": "code",
   "execution_count": 18,
   "metadata": {
    "collapsed": false
   },
   "outputs": [
    {
     "data": {
      "text/plain": [
       "DataFrame[summary: string, Sl No: string, District: string, Block: string, Location: string, Nitrate: string]"
      ]
     },
     "execution_count": 18,
     "metadata": {},
     "output_type": "execute_result"
    }
   ],
   "source": [
    "df.describe()"
   ]
  },
  {
   "cell_type": "code",
   "execution_count": 19,
   "metadata": {
    "collapsed": false
   },
   "outputs": [
    {
     "name": "stdout",
     "output_type": "stream",
     "text": [
      "+-------+------------------+\n",
      "|summary|           Nitrate|\n",
      "+-------+------------------+\n",
      "|  count|               153|\n",
      "|   mean|122.12418300653594|\n",
      "| stddev|126.66498084261892|\n",
      "|    min|                46|\n",
      "|    max|              1420|\n",
      "+-------+------------------+\n",
      "\n"
     ]
    }
   ],
   "source": [
    "df.describe('Nitrate').show()"
   ]
  },
  {
   "cell_type": "code",
   "execution_count": 20,
   "metadata": {
    "collapsed": false
   },
   "outputs": [],
   "source": [
    "import pandas as pd\n",
    "pandas_df = df.toPandas()"
   ]
  },
  {
   "cell_type": "code",
   "execution_count": 21,
   "metadata": {
    "collapsed": false
   },
   "outputs": [
    {
     "data": {
      "image/png": "[encoded data removed]",
      "text/plain": [
       "<matplotlib.figure.Figure at 0xad83cf8>"
      ]
     },
     "metadata": {},
     "output_type": "display_data"
    }
   ],
   "source": [
    "import matplotlib.pyplot as plt\n",
    "%matplotlib inline\n",
    "fig=plt.figure(figsize=(12,4),dpi=100)\n",
    "plt.plot(pandas_df['Sl No'],pandas_df['Nitrate'])\n",
    "plt.scatter(pandas_df['Sl No'],pandas_df['Nitrate'])\n",
    "plt.xlabel('Sl No',color='black')\n",
    "plt.ylabel('Nitrate(mg/L)',color='black')\n",
    "plt.title('Nitrate vs Sl No',color='black')\n",
    "plt.xlim(-1,155)\n",
    "plt.savefig('scatter nitrate')"
   ]
  },
  {
   "cell_type": "code",
   "execution_count": 22,
   "metadata": {
    "collapsed": false
   },
   "outputs": [
    {
     "data": {
      "image/png": "[encoded data removed]",
      "text/plain": [
       "<matplotlib.figure.Figure at 0xb1e2a58>"
      ]
     },
     "metadata": {},
     "output_type": "display_data"
    }
   ],
   "source": [
    "import matplotlib.pyplot as plt\n",
    "%matplotlib inline\n",
    "fig=plt.figure(figsize=(14,5),dpi=100)\n",
    "plt.bar(pandas_df['Sl No'],pandas_df['Nitrate'],color=['blue'])\n",
    "plt.xlabel('Sl No',color='black')\n",
    "plt.ylabel('Nitrate(mg/L)',color='black')\n",
    "plt.title('Nitrate vs Sl No',color='black')\n",
    "plt.xlim(0.5,155)\n",
    "plt.savefig('bar nitrate')"
   ]
  },
  {
   "cell_type": "code",
   "execution_count": 23,
   "metadata": {
    "collapsed": false
   },
   "outputs": [
    {
     "name": "stdout",
     "output_type": "stream",
     "text": [
      "+---------+---------------+-------+\n",
      "| District|          Block|Nitrate|\n",
      "+---------+---------------+-------+\n",
      "| Bagalkot|      Hunugunda|     48|\n",
      "|Bangalore|Bangalore North|     48|\n",
      "|Bangalore| Doddaballapura|     47|\n",
      "|  Belgaum|         Athani|     46|\n",
      "|  Belgaum|        Belgaum|     49|\n",
      "|  Belgaum|      Saundatti|     48|\n",
      "|    Bidar|       Homnabad|     47|\n",
      "|  Bijapur|        Bijapur|     46|\n",
      "|Davangere|  Harapanahalli|     50|\n",
      "|  Dharwad|        Dharwar|     48|\n",
      "| Gulbarga|      Chincholi|     46|\n",
      "| Gulbarga|       Chitapur|     50|\n",
      "|   Hassan|   Holenarsipur|     46|\n",
      "|   Kodagu|        Mercara|     50|\n",
      "|    Kolar|   Gauribidanur|     48|\n",
      "|   Mandya|    Nagamangala|     50|\n",
      "|   Mandya|    Nagamangala|     46|\n",
      "|   Mysore|     T.Narsipur|     46|\n",
      "+---------+---------------+-------+\n",
      "\n"
     ]
    }
   ],
   "source": [
    "nitratelowlevel = spark.sql(\"SELECT District,Block,Nitrate FROM NitrateCopy WHERE Nitrate BETWEEN 1 AND 50\")\n",
    "nitratelowlevel.show()"
   ]
  },
  {
   "cell_type": "code",
   "execution_count": 24,
   "metadata": {
    "collapsed": false
   },
   "outputs": [
    {
     "name": "stdout",
     "output_type": "stream",
     "text": [
      "+-----------+---------------+-------+\n",
      "|   District|          Block|Nitrate|\n",
      "+-----------+---------------+-------+\n",
      "|   Bagalkot|         Badami|     61|\n",
      "|   Bagalkot|       Bagalkot|     64|\n",
      "|   Bagalkot|        Beelagi|     74|\n",
      "|   Bagalkot|      Hunugunda|     55|\n",
      "|   Bagalkot|     Jamakhandi|     53|\n",
      "|   Bagalkot|     Jamakhandi|     66|\n",
      "|   Bagalkot|         Mudhol|     90|\n",
      "|  Bangalore|Bangalore North|     67|\n",
      "|  Bangalore| Doddaballapura|     97|\n",
      "|  Bangalore|    Nelamangala|     63|\n",
      "|  Bangalore|       Ramnagar|     90|\n",
      "|    Bellary|        Bellary|     60|\n",
      "|    Bellary|        Bellary|     82|\n",
      "|    Belgaum|         Athani|     65|\n",
      "|    Belgaum|     Bailhongal|     88|\n",
      "|    Belgaum|        Hukkeri|     52|\n",
      "|    Belgaum|      Saundatti|     84|\n",
      "|      Bidar|   Basavakalyan|     57|\n",
      "|      Bidar|         Bhalki|     89|\n",
      "|      Bidar|         Bhalki|     94|\n",
      "|      Bidar|         Bhalki|     79|\n",
      "|      Bidar|       Homnabad|     56|\n",
      "|    Bijapur|     Muddebihal|     95|\n",
      "|    Bijapur|         Sindgi|     69|\n",
      "|Chikmagalur|          Kadur|     63|\n",
      "|Chitradurga|    Chitradurga|     64|\n",
      "|Chitradurga|    Chitradurga|     63|\n",
      "|Chitradurga|        Hiriyur|     58|\n",
      "|Chitradurga|     Holalakere|     88|\n",
      "|Chitradurga|     Holalakere|     92|\n",
      "|  Davangere|      Davangere|     72|\n",
      "|  Davangere|  Harapanahalli|     50|\n",
      "|  Davangere|       Harihara|     52|\n",
      "|  Davangere|       Harihara|     85|\n",
      "|      Gadag|     Shirahatti|     82|\n",
      "|   Gulbarga|       Afzalpur|     60|\n",
      "|   Gulbarga|          Aland|     94|\n",
      "|   Gulbarga|      Chincholi|     58|\n",
      "|   Gulbarga|       Chitapur|     98|\n",
      "|   Gulbarga|       Chitapur|     50|\n",
      "|     Hassan|       Arkalgud|     52|\n",
      "|     Hassan|       Arsikere|     68|\n",
      "|     Hassan|          Belur|     54|\n",
      "|     Hassan|          Belur|     60|\n",
      "|     Hassan|         Hassan|     60|\n",
      "|     Haveri|        Hanagal|     64|\n",
      "|     Haveri|       Shiggaon|     56|\n",
      "|     Kodagu|        Mercara|     50|\n",
      "|     Kodagu|  Virajendrapet|    100|\n",
      "|      Kolar|      Bangarpet|    100|\n",
      "|     Koppal|     Gangavathi|     65|\n",
      "|     Koppal|     Gangavathi|     78|\n",
      "|     Koppal|         Koppal|     84|\n",
      "|     Koppal|       Kushtagi|     53|\n",
      "|     Koppal|       Yelburga|     76|\n",
      "|     Koppal|       Yelburga|     85|\n",
      "|     Mandya|  Krishnarajpet|     74|\n",
      "|     Mandya|         Maddur|    100|\n",
      "|     Mandya|         Mandya|     72|\n",
      "|     Mandya|    Nagamangala|     50|\n",
      "|     Mandya|    Nagamangala|     67|\n",
      "|     Mandya|    Nagamangala|     80|\n",
      "|     Mandya|  Srirangapatna|     72|\n",
      "|    Raichur|      Lingsugur|     92|\n",
      "|    Raichur|          Manvi|     75|\n",
      "|    Raichur|        Raichur|     76|\n",
      "|    Raichur|      Sindhanur|     77|\n",
      "+-----------+---------------+-------+\n",
      "\n"
     ]
    }
   ],
   "source": [
    "nitratemedlevel = spark.sql(\"SELECT District,Block,Nitrate FROM NitrateCopy WHERE Nitrate BETWEEN 50 AND 100\")\n",
    "nitratemedlevel.show(100)"
   ]
  },
  {
   "cell_type": "code",
   "execution_count": 25,
   "metadata": {
    "collapsed": false
   },
   "outputs": [
    {
     "name": "stdout",
     "output_type": "stream",
     "text": [
      "+-----------+-------------+-------+\n",
      "|   District|        Block|Nitrate|\n",
      "+-----------+-------------+-------+\n",
      "|   Bagalkot|     Bagalkot|    179|\n",
      "|   Bagalkot|    Hunugunda|    146|\n",
      "|   Bagalkot|    Hunugunda|    180|\n",
      "|   Bagalkot|    Hunugunda|    140|\n",
      "|   Bagalkot|   Jamakhandi|   1420|\n",
      "|  Bangalore|       Anekal|    145|\n",
      "|  Bangalore|  Devanahalli|    175|\n",
      "|  Bangalore|  Devanahalli|    109|\n",
      "|  Bangalore|   Kanakapura|    103|\n",
      "|    Bellary|      Bellary|    128|\n",
      "|    Bellary|       Hospet|    102|\n",
      "|    Belgaum|       Athani|    242|\n",
      "|    Belgaum|       Athani|    236|\n",
      "|    Belgaum|      Chikodi|    173|\n",
      "|    Belgaum|      Chikodi|    133|\n",
      "|    Belgaum|      Rayabag|    130|\n",
      "|      Bidar|        Aurad|    137|\n",
      "|      Bidar|        Aurad|    115|\n",
      "|      Bidar| Basavakalyan|    200|\n",
      "|      Bidar|       Bhalki|    128|\n",
      "|      Bidar|     Homnabad|    205|\n",
      "|    Bijapur|     Bagewadi|    280|\n",
      "|    Bijapur|     Bagewadi|    163|\n",
      "|    Bijapur|      Bijapur|    158|\n",
      "|    Bijapur|      Bijapur|    109|\n",
      "|    Bijapur|         Indi|    265|\n",
      "|    Bijapur|         Indi|    141|\n",
      "|    Bijapur|   Muddebihal|    176|\n",
      "|    Bijapur|       Sindgi|    254|\n",
      "|Chikmagalur|     Tarikere|    127|\n",
      "|Chitradurga|  Chitradurga|    122|\n",
      "|Chitradurga|    Hosadurga|    142|\n",
      "|Chitradurga|    Hosadurga|    129|\n",
      "|Chitradurga|    Hosadurga|    610|\n",
      "|  Davangere|Harapanahalli|    110|\n",
      "|  Davangere|      Jagalur|    210|\n",
      "|    Dharwad|      Kundgol|    170|\n",
      "|      Gadag|        Gadag|    130|\n",
      "|      Gadag|    Naragunda|    104|\n",
      "|      Gadag|   Shirahatti|    192|\n",
      "|   Gulbarga|     Afzalpur|    228|\n",
      "|   Gulbarga|     Afzalpur|    113|\n",
      "|   Gulbarga|        Aland|    135|\n",
      "|   Gulbarga|    Chincholi|    128|\n",
      "|   Gulbarga|     Gulbarga|    132|\n",
      "|   Gulbarga|     Gulbarga|    128|\n",
      "|     Hassan|     Arsikere|    162|\n",
      "|     Hassan|       Hassan|    140|\n",
      "|     Kodagu|    Somvarpet|    130|\n",
      "|     Koppal|   Gangavathi|    175|\n",
      "|     Koppal|   Gangavathi|    105|\n",
      "|     Koppal|   Gangavathi|    161|\n",
      "|     Koppal|       Koppal|    154|\n",
      "|     Koppal|     Kushtagi|    121|\n",
      "|     Koppal|     Yelburga|    247|\n",
      "|     Mandya|       Maddur|    118|\n",
      "|     Mandya|       Maddur|    156|\n",
      "|     Mandya|       Maddur|    155|\n",
      "|     Mandya|  Nagamangala|    117|\n",
      "|     Mandya|  Pandavapura|    127|\n",
      "|     Mandya|  Pandavapura|    230|\n",
      "|     Mandya|  Pandavapura|    138|\n",
      "|     Mandya|  Pandavapura|    242|\n",
      "|     Mandya|Srirangapatna|    193|\n",
      "|     Mandya|Srirangapatna|    134|\n",
      "|     Mandya|Srirangapatna|    289|\n",
      "|     Mandya|Srirangapatna|    158|\n",
      "|    Raichur|     Deodurga|    118|\n",
      "|    Raichur|     Deodurga|    214|\n",
      "|    Raichur|    Lingsugur|    101|\n",
      "|    Raichur|        Manvi|    140|\n",
      "|    Raichur|      Raichur|    200|\n",
      "+-----------+-------------+-------+\n",
      "\n"
     ]
    }
   ],
   "source": [
    "nitratehighlevel = spark.sql(\"SELECT District,Block,Nitrate FROM NitrateCopy WHERE Nitrate > 100\")\n",
    "nitratehighlevel.show(100)"
   ]
  },
  {
   "cell_type": "code",
   "execution_count": 26,
   "metadata": {
    "collapsed": false
   },
   "outputs": [],
   "source": [
    "nitratelowlevel.write.csv('nit_low.csv')\n",
    "nitratemedlevel.write.csv('nit_med.csv')\n",
    "nitratehighlevel.write.csv('nit_high.csv')"
   ]
  },
  {
   "cell_type": "code",
   "execution_count": 27,
   "metadata": {
    "collapsed": false
   },
   "outputs": [
    {
     "name": "stdout",
     "output_type": "stream",
     "text": [
      "+---------+------------+----+\n",
      "|      _c0|         _c1| _c2|\n",
      "+---------+------------+----+\n",
      "| Bagalkot|    Bagalkot| 179|\n",
      "| Bagalkot|   Hunugunda| 146|\n",
      "| Bagalkot|   Hunugunda| 180|\n",
      "| Bagalkot|   Hunugunda| 140|\n",
      "| Bagalkot|  Jamakhandi|1420|\n",
      "|Bangalore|      Anekal| 145|\n",
      "|Bangalore| Devanahalli| 175|\n",
      "|Bangalore| Devanahalli| 109|\n",
      "|Bangalore|  Kanakapura| 103|\n",
      "|  Bellary|     Bellary| 128|\n",
      "|  Bellary|      Hospet| 102|\n",
      "|  Belgaum|      Athani| 242|\n",
      "|  Belgaum|      Athani| 236|\n",
      "|  Belgaum|     Chikodi| 173|\n",
      "|  Belgaum|     Chikodi| 133|\n",
      "|  Belgaum|     Rayabag| 130|\n",
      "|    Bidar|       Aurad| 137|\n",
      "|    Bidar|       Aurad| 115|\n",
      "|    Bidar|Basavakalyan| 200|\n",
      "|    Bidar|      Bhalki| 128|\n",
      "+---------+------------+----+\n",
      "only showing top 20 rows\n",
      "\n"
     ]
    }
   ],
   "source": [
    "df1 = spark.read.csv('/user/SYSTEM/nit_high.csv/high.csv', inferSchema=False, header = False)\n",
    "df1.show()"
   ]
  },
  {
   "cell_type": "code",
   "execution_count": 28,
   "metadata": {
    "collapsed": false
   },
   "outputs": [
    {
     "name": "stdout",
     "output_type": "stream",
     "text": [
      "+---------+------------+-------+\n",
      "| District|       Block|Nitrate|\n",
      "+---------+------------+-------+\n",
      "| Bagalkot|    Bagalkot|    179|\n",
      "| Bagalkot|   Hunugunda|    146|\n",
      "| Bagalkot|   Hunugunda|    180|\n",
      "| Bagalkot|   Hunugunda|    140|\n",
      "| Bagalkot|  Jamakhandi|   1420|\n",
      "|Bangalore|      Anekal|    145|\n",
      "|Bangalore| Devanahalli|    175|\n",
      "|Bangalore| Devanahalli|    109|\n",
      "|Bangalore|  Kanakapura|    103|\n",
      "|  Bellary|     Bellary|    128|\n",
      "|  Bellary|      Hospet|    102|\n",
      "|  Belgaum|      Athani|    242|\n",
      "|  Belgaum|      Athani|    236|\n",
      "|  Belgaum|     Chikodi|    173|\n",
      "|  Belgaum|     Chikodi|    133|\n",
      "|  Belgaum|     Rayabag|    130|\n",
      "|    Bidar|       Aurad|    137|\n",
      "|    Bidar|       Aurad|    115|\n",
      "|    Bidar|Basavakalyan|    200|\n",
      "|    Bidar|      Bhalki|    128|\n",
      "+---------+------------+-------+\n",
      "only showing top 20 rows\n",
      "\n"
     ]
    }
   ],
   "source": [
    "df1 = df1.withColumnRenamed('_c0','District')\n",
    "df1 = df1.withColumnRenamed('_c1','Block')\n",
    "df1 = df1.withColumnRenamed('_c2','Nitrate')\n",
    "df1.show()"
   ]
  },
  {
   "cell_type": "code",
   "execution_count": 29,
   "metadata": {
    "collapsed": false
   },
   "outputs": [
    {
     "name": "stdout",
     "output_type": "stream",
     "text": [
      "+---------+---------------+---+\n",
      "|      _c0|            _c1|_c2|\n",
      "+---------+---------------+---+\n",
      "| Bagalkot|         Badami| 61|\n",
      "| Bagalkot|       Bagalkot| 64|\n",
      "| Bagalkot|        Beelagi| 74|\n",
      "| Bagalkot|      Hunugunda| 55|\n",
      "| Bagalkot|     Jamakhandi| 53|\n",
      "| Bagalkot|     Jamakhandi| 66|\n",
      "| Bagalkot|         Mudhol| 90|\n",
      "|Bangalore|Bangalore North| 67|\n",
      "|Bangalore| Doddaballapura| 97|\n",
      "|Bangalore|    Nelamangala| 63|\n",
      "|Bangalore|       Ramnagar| 90|\n",
      "|  Bellary|        Bellary| 60|\n",
      "|  Bellary|        Bellary| 82|\n",
      "|  Belgaum|         Athani| 65|\n",
      "|  Belgaum|     Bailhongal| 88|\n",
      "|  Belgaum|        Hukkeri| 52|\n",
      "|  Belgaum|      Saundatti| 84|\n",
      "|    Bidar|   Basavakalyan| 57|\n",
      "|    Bidar|         Bhalki| 89|\n",
      "|    Bidar|         Bhalki| 94|\n",
      "+---------+---------------+---+\n",
      "only showing top 20 rows\n",
      "\n"
     ]
    }
   ],
   "source": [
    "df2 = spark.read.csv('/user/SYSTEM/nit_med.csv/med.csv', inferSchema=False, header = False)\n",
    "df2.show()"
   ]
  },
  {
   "cell_type": "code",
   "execution_count": 30,
   "metadata": {
    "collapsed": false
   },
   "outputs": [
    {
     "name": "stdout",
     "output_type": "stream",
     "text": [
      "+---------+---------------+-------+\n",
      "| District|          Block|Nitrate|\n",
      "+---------+---------------+-------+\n",
      "| Bagalkot|         Badami|     61|\n",
      "| Bagalkot|       Bagalkot|     64|\n",
      "| Bagalkot|        Beelagi|     74|\n",
      "| Bagalkot|      Hunugunda|     55|\n",
      "| Bagalkot|     Jamakhandi|     53|\n",
      "| Bagalkot|     Jamakhandi|     66|\n",
      "| Bagalkot|         Mudhol|     90|\n",
      "|Bangalore|Bangalore North|     67|\n",
      "|Bangalore| Doddaballapura|     97|\n",
      "|Bangalore|    Nelamangala|     63|\n",
      "|Bangalore|       Ramnagar|     90|\n",
      "|  Bellary|        Bellary|     60|\n",
      "|  Bellary|        Bellary|     82|\n",
      "|  Belgaum|         Athani|     65|\n",
      "|  Belgaum|     Bailhongal|     88|\n",
      "|  Belgaum|        Hukkeri|     52|\n",
      "|  Belgaum|      Saundatti|     84|\n",
      "|    Bidar|   Basavakalyan|     57|\n",
      "|    Bidar|         Bhalki|     89|\n",
      "|    Bidar|         Bhalki|     94|\n",
      "+---------+---------------+-------+\n",
      "only showing top 20 rows\n",
      "\n"
     ]
    }
   ],
   "source": [
    "df2 = df2.withColumnRenamed('_c0','District')\n",
    "df2 = df2.withColumnRenamed('_c1','Block')\n",
    "df2 = df2.withColumnRenamed('_c2','Nitrate')\n",
    "df2.show()"
   ]
  },
  {
   "cell_type": "code",
   "execution_count": 31,
   "metadata": {
    "collapsed": false
   },
   "outputs": [
    {
     "name": "stdout",
     "output_type": "stream",
     "text": [
      "+---------+---------------+---+\n",
      "|      _c0|            _c1|_c2|\n",
      "+---------+---------------+---+\n",
      "| Bagalkot|      Hunugunda| 48|\n",
      "|Bangalore|Bangalore North| 48|\n",
      "|Bangalore| Doddaballapura| 47|\n",
      "|  Belgaum|         Athani| 46|\n",
      "|  Belgaum|        Belgaum| 49|\n",
      "|  Belgaum|      Saundatti| 48|\n",
      "|    Bidar|       Homnabad| 47|\n",
      "|  Bijapur|        Bijapur| 46|\n",
      "|Davangere|  Harapanahalli| 50|\n",
      "|  Dharwad|        Dharwar| 48|\n",
      "| Gulbarga|      Chincholi| 46|\n",
      "| Gulbarga|       Chitapur| 50|\n",
      "|   Hassan|   Holenarsipur| 46|\n",
      "|   Kodagu|        Mercara| 50|\n",
      "|    Kolar|   Gauribidanur| 48|\n",
      "|   Mandya|    Nagamangala| 50|\n",
      "|   Mandya|    Nagamangala| 46|\n",
      "|   Mysore|     T.Narsipur| 46|\n",
      "+---------+---------------+---+\n",
      "\n"
     ]
    }
   ],
   "source": [
    "df3 = spark.read.csv('/user/SYSTEM/nit_low.csv/low.csv', inferSchema=False, header = False)\n",
    "df3.show()"
   ]
  },
  {
   "cell_type": "code",
   "execution_count": 32,
   "metadata": {
    "collapsed": false
   },
   "outputs": [
    {
     "name": "stdout",
     "output_type": "stream",
     "text": [
      "+---------+---------------+-------+\n",
      "| District|          Block|Nitrate|\n",
      "+---------+---------------+-------+\n",
      "| Bagalkot|      Hunugunda|     48|\n",
      "|Bangalore|Bangalore North|     48|\n",
      "|Bangalore| Doddaballapura|     47|\n",
      "|  Belgaum|         Athani|     46|\n",
      "|  Belgaum|        Belgaum|     49|\n",
      "|  Belgaum|      Saundatti|     48|\n",
      "|    Bidar|       Homnabad|     47|\n",
      "|  Bijapur|        Bijapur|     46|\n",
      "|Davangere|  Harapanahalli|     50|\n",
      "|  Dharwad|        Dharwar|     48|\n",
      "| Gulbarga|      Chincholi|     46|\n",
      "| Gulbarga|       Chitapur|     50|\n",
      "|   Hassan|   Holenarsipur|     46|\n",
      "|   Kodagu|        Mercara|     50|\n",
      "|    Kolar|   Gauribidanur|     48|\n",
      "|   Mandya|    Nagamangala|     50|\n",
      "|   Mandya|    Nagamangala|     46|\n",
      "|   Mysore|     T.Narsipur|     46|\n",
      "+---------+---------------+-------+\n",
      "\n"
     ]
    }
   ],
   "source": [
    "df3 = df3.withColumnRenamed('_c0','District')\n",
    "df3 = df3.withColumnRenamed('_c1','Block')\n",
    "df3 = df3.withColumnRenamed('_c2','Nitrate')\n",
    "df3.show()"
   ]
  },
  {
   "cell_type": "code",
   "execution_count": null,
   "metadata": {
    "collapsed": true
   },
   "outputs": [],
   "source": []
  }
 ],
 "metadata": {
  "kernelspec": {
   "display_name": "Python 2",
   "language": "python",
   "name": "python2"
  },
  "language_info": {
   "codemirror_mode": {
    "name": "ipython",
    "version": 2
   },
   "file_extension": ".py",
   "mimetype": "text/x-python",
   "name": "python",
   "nbconvert_exporter": "python",
   "pygments_lexer": "ipython2",
   "version": "2.7.10"
  }
 },
 "nbformat": 4,
 "nbformat_minor": 0
}
