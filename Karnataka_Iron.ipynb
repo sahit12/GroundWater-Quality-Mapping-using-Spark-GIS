{
 "cells": [
  {
   "cell_type": "code",
   "execution_count": 1,
   "metadata": {
    "collapsed": true
   },
   "outputs": [],
   "source": [
    "from pyspark.ml import Pipeline\n",
    "from pyspark.ml.feature import HashingTF, Tokenizer\n",
    "from pyspark.sql import Row\n",
    "from pyspark.sql.functions import UserDefinedFunction\n",
    "from pyspark.sql.types import *"
   ]
  },
  {
   "cell_type": "code",
   "execution_count": 2,
   "metadata": {
    "collapsed": true
   },
   "outputs": [],
   "source": [
    "spark = SparkSession.builder.appName('GroundWaterApp').getOrCreate()\n",
    "df = spark.read.csv('/GroundWater/Iron.csv', inferSchema=True, header = True)"
   ]
  },
  {
   "cell_type": "code",
   "execution_count": 3,
   "metadata": {
    "collapsed": false
   },
   "outputs": [
    {
     "data": {
      "text/plain": [
       "[Row(Sl No=1, District=u'Bagalkot', Block=u'Badami', Location=u'Kulgeri', Iron=2.7)]"
      ]
     },
     "execution_count": 3,
     "metadata": {},
     "output_type": "execute_result"
    }
   ],
   "source": [
    "df.take(1)"
   ]
  },
  {
   "cell_type": "code",
   "execution_count": 4,
   "metadata": {
    "collapsed": true
   },
   "outputs": [],
   "source": [
    "df.registerTempTable('IronCopy')"
   ]
  },
  {
   "cell_type": "code",
   "execution_count": 5,
   "metadata": {
    "collapsed": false
   },
   "outputs": [
    {
     "name": "stdout",
     "output_type": "stream",
     "text": [
      "+-----+----------------+-----------------+--------------------+----+\n",
      "|Sl No|        District|            Block|            Location|Iron|\n",
      "+-----+----------------+-----------------+--------------------+----+\n",
      "|    1|        Bagalkot|           Badami|             Kulgeri| 2.7|\n",
      "|    2|        Bagalkot|           Badami|            Patadkal| 1.4|\n",
      "|    3|        Bagalkot|         Bagalkot|               Bevur| 4.8|\n",
      "|    4|        Bagalkot|        Hunugunda|         Binjawadige| 4.4|\n",
      "|    5|        Bagalkot|        Hunugunda|               Ilkal|5.01|\n",
      "|    6|        Bagalkot|           Mudhol|            Belagali| 3.2|\n",
      "|    7|       Bangalore|      Devanahalli|      Viswanathapura| 6.0|\n",
      "|    8|       Bangalore|       Kanakapura|             Hegnuru| 1.6|\n",
      "|    9|       Bangalore|           Magadi|              Magadi| 1.5|\n",
      "|   10|          Belary|           Hospet|       Sotrigangapur| 1.3|\n",
      "|   11|          Belary|        Siriguppa|             Bailuru| 1.0|\n",
      "|   12|         Belgaum|           Athani|              Badchi| 6.2|\n",
      "|   13|         Belgaum|           Athani|            Mallabad|1.04|\n",
      "|   14|         Belgaum|           Athani|           Nandagaon|1.33|\n",
      "|   15|         Belgaum|           Athani|           Navalihal|1.04|\n",
      "|   16|         Belgaum|           Athani|        Parthanhalli| 2.2|\n",
      "|   17|         Belgaum|           Athani|             Telsang| 1.5|\n",
      "|   18|         Belgaum|       Bailhongal|              Kittur|1.95|\n",
      "|   19|         Belgaum|            Gokak|            Arabhavi|1.87|\n",
      "|   20|         Belgaum|            Gokak|               Gokak| 1.2|\n",
      "|   21|         Belgaum|            Gokak|            Khangaon| 2.0|\n",
      "|   22|         Belgaum|            Gokak|          Sangankeri| 1.6|\n",
      "|   23|         Belgaum|          Hukkeri|            Hattargi|1.49|\n",
      "|   24|         Belgaum|         Khanapur|               Gunji| 5.5|\n",
      "|   25|         Belgaum|         Khanapur|            Khanapur|16.2|\n",
      "|   26|         Belgaum|         Khanapur|               Londa|10.2|\n",
      "|   27|         Belgaum|         Khanapur|             Nandgad| 8.4|\n",
      "|   28|         Belgaum|          Rayabag|            Gurlapur| 1.6|\n",
      "|   29|         Belgaum|          Rayabag|          Yabarhatti| 1.6|\n",
      "|   30|         Belgaum|        Saundatti|           Mamadapur|2.02|\n",
      "|   31|           Bidar|            Bidar|               Andur| 1.0|\n",
      "|   32|         Bijapur|         Bagewadi|             Multagi| 6.2|\n",
      "|   33|         Bijapur|          Bijapur|               Torvi|15.0|\n",
      "|   34|     Chikmagalur|      Chikmagalur|             Rampura| 5.7|\n",
      "|   35|     Chikmagalur|            Kadur|          Antargatta| 1.5|\n",
      "|   36|     Chikmagalur|            Kadur|        Sakkarepatna| 3.1|\n",
      "|   37|     Chikmagalur|            Koppa|          Kudregundi| 1.1|\n",
      "|   38|     Chikmagalur|Narasimharajapura|         Shettikoppa| 1.4|\n",
      "|   39|     Chikmagalur|        Shringeri|            Sringeri| 1.1|\n",
      "|   40|     Chitradurga|       Challakere|        Dyvarnahalli| 1.3|\n",
      "|   41|     Chitradurga|       Challakere|            Sanekere| 5.1|\n",
      "|   42|     Chitradurga|      Chitradurga|           Hartikote| 2.1|\n",
      "|   43|     Chitradurga|       Holalakere|        Gangasamudra| 5.4|\n",
      "|   44|     Chitradurga|       Holalakere|    Ghatti Hosahalli| 2.4|\n",
      "|   45|     Chitradurga|       Holalakere|           R.Nulenur| 2.9|\n",
      "|   46|     Chitradurga|       Holalakere|               Talya| 2.4|\n",
      "|   47|     Chitradurga|        Hosadurga|        Srirampura.C| 5.0|\n",
      "|   48|Dakshina Kannada|          Bantwal|                Mani| 1.2|\n",
      "|   49|Dakshina Kannada|          Bantwal|              Mittur| 1.4|\n",
      "|   50|Dakshina Kannada|           Puttur|            Alankaru| 2.0|\n",
      "|   51|Dakshina Kannada|           Puttur|              Kadaba| 1.1|\n",
      "|   52|Dakshina Kannada|           Puttur|              Puttur| 1.2|\n",
      "|   53|Dakshina Kannada|           Puttur|         Uppinangadi| 4.0|\n",
      "|   54|Dakshina Kannada|            Sulia|               Baipa| 2.0|\n",
      "|   55|Dakshina Kannada|            Sulia|               Panja| 5.2|\n",
      "|   56|       Davangere|       Channagiri|       Kanavabelichi| 4.1|\n",
      "|   57|       Davangere|       Channagiri|         Santebennur| 3.4|\n",
      "|   58|       Davangere|    Harapanahalli|            Arsikere| 1.9|\n",
      "|   59|       Davangere|    Harapanahalli|         Chikkahalli| 2.2|\n",
      "|   60|       Davangere|    Harapanahalli|           Nichhapur| 1.3|\n",
      "|   61|       Davangere|         Harihara|          Bhanuvalli| 2.2|\n",
      "|   62|       Davangere|         Harihara|              Vasana| 7.8|\n",
      "|   63|       Davangere|          Jagalur|Basavapura(Davang...| 4.0|\n",
      "|   64|        Gulbarga|         Afzalpur|            Afzalpur| 1.7|\n",
      "|   65|        Gulbarga|         Afzalpur|           Choudepur| 1.5|\n",
      "|   66|        Gulbarga|         Afzalpur|      Gangapur (R.S)| 1.1|\n",
      "|   67|        Gulbarga|         Afzalpur|            Mallabad| 1.3|\n",
      "|   68|        Gulbarga|        Chincholi|           Chincholi| 1.4|\n",
      "|   69|        Gulbarga|         Chitapur|           Chittapur| 1.0|\n",
      "|   70|        Gulbarga|          Jevargi|      Alur(Gulburga)| 1.1|\n",
      "|   71|        Gulbarga|          Jevargi|        Chigerahalli| 1.2|\n",
      "|   72|        Gulbarga|            Sedam|            Nilhalli| 3.0|\n",
      "|   73|        Gulbarga|            Sedam|               Sedam| 1.2|\n",
      "|   74|        Gulbarga|         Shahapur|        Dorana Halli| 1.6|\n",
      "|   75|        Gulbarga|         Shahapur|         Hattiguddar| 1.9|\n",
      "|   76|        Gulbarga|         Shorapur|            Bijaspur| 1.7|\n",
      "|   77|        Gulbarga|         Shorapur|             Devapur| 2.5|\n",
      "|   78|        Gulbarga|         Shorapur|             Kakkeri| 1.0|\n",
      "|   79|        Gulbarga|         Shorapur|            Shantpur| 2.0|\n",
      "|   80|        Gulbarga|         Shorapur|   Shorapur (Dilgud)| 1.7|\n",
      "|   81|          Hassan|             Alur|            Kanathur| 1.3|\n",
      "|   82|          Hassan|         Arkalgud|             Konanur| 1.5|\n",
      "|   83|          Hassan|            Belur|          Gendehalli| 1.9|\n",
      "|   84|          Hassan|            Belur|           Halebeedu| 5.5|\n",
      "|   85|          Hassan|  Channarayapatna|            Hirisave|65.0|\n",
      "|   86|          Hassan|  Channarayapatna|    Shravan Belagola| 1.2|\n",
      "|   87|          Hassan|  Channarayapatna|     Srinivaspura.Mk| 1.7|\n",
      "|   88|          Haveri|       Ranebennur|            Kuppelur| 1.0|\n",
      "|   89|          Kodagu|          Mercara|           Heravanad| 1.2|\n",
      "|   90|           Kolar|            Kolar|          Antarganga| 2.9|\n",
      "|   91|           Kolar|            Kolar|               Nelam| 1.2|\n",
      "|   92|          Koppal|       Gangavathi|    Hosabandiarlapur| 1.1|\n",
      "|   93|          Koppal|           Koppal|           Irkalgada| 7.2|\n",
      "|   94|          Koppal|         Kushtagi|          Hirebenkal|11.2|\n",
      "|   95|          Koppal|         Kushtagi|             Mudenur| 1.1|\n",
      "|   96|          Koppal|         Yelburga|            Bhanapur| 1.2|\n",
      "|   97|          Koppal|         Yelburga|               Murdi| 1.5|\n",
      "|   98|          Koppal|         Yelburga|            Yelburga| 1.2|\n",
      "|   99|          Mysore|           Hunsur|             Hanagod| 3.2|\n",
      "|  100|          Mysore| Krishnarajanagar|      Hossur(Mysore)| 2.8|\n",
      "+-----+----------------+-----------------+--------------------+----+\n",
      "only showing top 100 rows\n",
      "\n"
     ]
    }
   ],
   "source": [
    "df.show(100)"
   ]
  },
  {
   "cell_type": "code",
   "execution_count": 7,
   "metadata": {
    "collapsed": false,
    "scrolled": false
   },
   "outputs": [
    {
     "name": "stdout",
     "output_type": "stream",
     "text": [
      "root\n",
      " |-- Sl No: integer (nullable = true)\n",
      " |-- District: string (nullable = true)\n",
      " |-- Block: string (nullable = true)\n",
      " |-- Location: string (nullable = true)\n",
      " |-- Iron: double (nullable = true)\n",
      "\n"
     ]
    }
   ],
   "source": [
    "df.printSchema()"
   ]
  },
  {
   "cell_type": "code",
   "execution_count": 8,
   "metadata": {
    "collapsed": false
   },
   "outputs": [
    {
     "data": {
      "text/plain": [
       "DataFrame[summary: string, Sl No: string, District: string, Block: string, Location: string, Iron: string]"
      ]
     },
     "execution_count": 8,
     "metadata": {},
     "output_type": "execute_result"
    }
   ],
   "source": [
    "df.describe()"
   ]
  },
  {
   "cell_type": "code",
   "execution_count": 9,
   "metadata": {
    "collapsed": false
   },
   "outputs": [
    {
     "name": "stdout",
     "output_type": "stream",
     "text": [
      "+-------+-----------------+\n",
      "|summary|             Iron|\n",
      "+-------+-----------------+\n",
      "|  count|              127|\n",
      "|   mean| 3.89015748031496|\n",
      "| stddev|6.418308260545302|\n",
      "|    min|              1.0|\n",
      "|    max|             65.0|\n",
      "+-------+-----------------+\n",
      "\n"
     ]
    }
   ],
   "source": [
    "df.describe('Iron').show()"
   ]
  },
  {
   "cell_type": "code",
   "execution_count": 11,
   "metadata": {
    "collapsed": false
   },
   "outputs": [
    {
     "name": "stdout",
     "output_type": "stream",
     "text": [
      "+-----+----------------+------------------+--------------------+----+\n",
      "|Sl No|        District|             Block|            Location|Iron|\n",
      "+-----+----------------+------------------+--------------------+----+\n",
      "|    1|        Bagalkot|            Badami|             Kulgeri| 2.7|\n",
      "|    3|        Bagalkot|          Bagalkot|               Bevur| 4.8|\n",
      "|    4|        Bagalkot|         Hunugunda|         Binjawadige| 4.4|\n",
      "|    5|        Bagalkot|         Hunugunda|               Ilkal|5.01|\n",
      "|    6|        Bagalkot|            Mudhol|            Belagali| 3.2|\n",
      "|    7|       Bangalore|       Devanahalli|      Viswanathapura| 6.0|\n",
      "|   12|         Belgaum|            Athani|              Badchi| 6.2|\n",
      "|   16|         Belgaum|            Athani|        Parthanhalli| 2.2|\n",
      "|   24|         Belgaum|          Khanapur|               Gunji| 5.5|\n",
      "|   25|         Belgaum|          Khanapur|            Khanapur|16.2|\n",
      "|   26|         Belgaum|          Khanapur|               Londa|10.2|\n",
      "|   27|         Belgaum|          Khanapur|             Nandgad| 8.4|\n",
      "|   30|         Belgaum|         Saundatti|           Mamadapur|2.02|\n",
      "|   32|         Bijapur|          Bagewadi|             Multagi| 6.2|\n",
      "|   33|         Bijapur|           Bijapur|               Torvi|15.0|\n",
      "|   34|     Chikmagalur|       Chikmagalur|             Rampura| 5.7|\n",
      "|   36|     Chikmagalur|             Kadur|        Sakkarepatna| 3.1|\n",
      "|   41|     Chitradurga|        Challakere|            Sanekere| 5.1|\n",
      "|   42|     Chitradurga|       Chitradurga|           Hartikote| 2.1|\n",
      "|   43|     Chitradurga|        Holalakere|        Gangasamudra| 5.4|\n",
      "|   44|     Chitradurga|        Holalakere|    Ghatti Hosahalli| 2.4|\n",
      "|   45|     Chitradurga|        Holalakere|           R.Nulenur| 2.9|\n",
      "|   46|     Chitradurga|        Holalakere|               Talya| 2.4|\n",
      "|   47|     Chitradurga|         Hosadurga|        Srirampura.C| 5.0|\n",
      "|   53|Dakshina Kannada|            Puttur|         Uppinangadi| 4.0|\n",
      "|   55|Dakshina Kannada|             Sulia|               Panja| 5.2|\n",
      "|   56|       Davangere|        Channagiri|       Kanavabelichi| 4.1|\n",
      "|   57|       Davangere|        Channagiri|         Santebennur| 3.4|\n",
      "|   59|       Davangere|     Harapanahalli|         Chikkahalli| 2.2|\n",
      "|   61|       Davangere|          Harihara|          Bhanuvalli| 2.2|\n",
      "|   62|       Davangere|          Harihara|              Vasana| 7.8|\n",
      "|   63|       Davangere|           Jagalur|Basavapura(Davang...| 4.0|\n",
      "|   72|        Gulbarga|             Sedam|            Nilhalli| 3.0|\n",
      "|   77|        Gulbarga|          Shorapur|             Devapur| 2.5|\n",
      "|   84|          Hassan|             Belur|           Halebeedu| 5.5|\n",
      "|   85|          Hassan|   Channarayapatna|            Hirisave|65.0|\n",
      "|   90|           Kolar|             Kolar|          Antarganga| 2.9|\n",
      "|   93|          Koppal|            Koppal|           Irkalgada| 7.2|\n",
      "|   94|          Koppal|          Kushtagi|          Hirebenkal|11.2|\n",
      "|   99|          Mysore|            Hunsur|             Hanagod| 3.2|\n",
      "|  100|          Mysore|  Krishnarajanagar|      Hossur(Mysore)| 2.8|\n",
      "|  101|         Raichur|          Deodurga|             Arakeri|14.9|\n",
      "|  103|         Raichur|         Lingsugur|             Chhatra| 5.0|\n",
      "|  104|         Raichur|             Manvi|            Bagalvad| 9.2|\n",
      "|  105|         Raichur|             Manvi|       Hire Kotankal| 9.2|\n",
      "|  106|         Raichur|             Manvi|            Nawalkal| 5.1|\n",
      "|  108|         Raichur|             Manvi|        Pamanakallur| 3.6|\n",
      "|  112|         Raichur|         Sindhanur|            Mahampur|14.1|\n",
      "|  113|         Shimoga|        Hosanagara|            Riponpet| 2.5|\n",
      "|  114|          Tumkur|Chikanayakanahalli|             Elanadu| 7.7|\n",
      "+-----+----------------+------------------+--------------------+----+\n",
      "only showing top 50 rows\n",
      "\n"
     ]
    }
   ],
   "source": [
    "df.filter(df['Iron'] > 2.0).show(50)"
   ]
  },
  {
   "cell_type": "code",
   "execution_count": 12,
   "metadata": {
    "collapsed": false
   },
   "outputs": [],
   "source": [
    "import pandas as pd\n",
    "pandas_df = df.toPandas()"
   ]
  },
  {
   "cell_type": "code",
   "execution_count": 13,
   "metadata": {
    "collapsed": false
   },
   "outputs": [
    {
     "data": {
      "image/png": "[encoded data removed]",
      "text/plain": [
       "<matplotlib.figure.Figure at 0xac6f2e8>"
      ]
     },
     "metadata": {},
     "output_type": "display_data"
    }
   ],
   "source": [
    "import matplotlib.pyplot as plt\n",
    "%matplotlib inline\n",
    "fig=plt.figure(figsize=(13,5),dpi=100)\n",
    "plt.plot(pandas_df['Sl No'],pandas_df['Iron'])\n",
    "plt.scatter(pandas_df['Sl No'],pandas_df['Iron'])\n",
    "plt.xlabel('Sl No',color='black')\n",
    "plt.ylabel('Iron(mg/L)',color='black')\n",
    "plt.title('Iron vs Sl No',color='black')\n",
    "plt.xlim(0,128.5)\n",
    "plt.ylim(-5,70)\n",
    "plt.savefig('Scatter_Iron')"
   ]
  },
  {
   "cell_type": "code",
   "execution_count": 14,
   "metadata": {
    "collapsed": false
   },
   "outputs": [
    {
     "data": {
      "image/png": "[encoded data removed]",
      "text/plain": [
       "<matplotlib.figure.Figure at 0x3b17cf8>"
      ]
     },
     "metadata": {},
     "output_type": "display_data"
    }
   ],
   "source": [
    "import matplotlib.pyplot as plt\n",
    "%matplotlib inline\n",
    "fig=plt.figure(figsize=(18,7),dpi=100)\n",
    "plt.bar(pandas_df['Sl No'],pandas_df['Iron'],color=['blue'])\n",
    "plt.xlabel('Sl No',color='black')\n",
    "plt.ylabel('Iron(mg/L)',color='black')\n",
    "plt.title('Iron vs Sl No',color='black')\n",
    "plt.xlim(0.5,128.5)\n",
    "plt.savefig('bar_Iron')"
   ]
  },
  {
   "cell_type": "code",
   "execution_count": 19,
   "metadata": {
    "collapsed": false
   },
   "outputs": [
    {
     "name": "stdout",
     "output_type": "stream",
     "text": [
      "+----------------+---------------+----+\n",
      "|        District|          Block|Iron|\n",
      "+----------------+---------------+----+\n",
      "|          Belary|      Siriguppa| 1.0|\n",
      "|         Belgaum|         Athani|1.04|\n",
      "|         Belgaum|         Athani|1.04|\n",
      "|         Belgaum|          Gokak| 1.2|\n",
      "|           Bidar|          Bidar| 1.0|\n",
      "|     Chikmagalur|          Koppa| 1.1|\n",
      "|     Chikmagalur|      Shringeri| 1.1|\n",
      "|Dakshina Kannada|        Bantwal| 1.2|\n",
      "|Dakshina Kannada|         Puttur| 1.1|\n",
      "|Dakshina Kannada|         Puttur| 1.2|\n",
      "|        Gulbarga|       Afzalpur| 1.1|\n",
      "|        Gulbarga|       Chitapur| 1.0|\n",
      "|        Gulbarga|        Jevargi| 1.1|\n",
      "|        Gulbarga|        Jevargi| 1.2|\n",
      "|        Gulbarga|          Sedam| 1.2|\n",
      "|        Gulbarga|       Shorapur| 1.0|\n",
      "|          Hassan|Channarayapatna| 1.2|\n",
      "|          Haveri|     Ranebennur| 1.0|\n",
      "|          Kodagu|        Mercara| 1.2|\n",
      "|           Kolar|          Kolar| 1.2|\n",
      "|          Koppal|     Gangavathi| 1.1|\n",
      "|          Koppal|       Kushtagi| 1.1|\n",
      "|          Koppal|       Yelburga| 1.2|\n",
      "|          Koppal|       Yelburga| 1.2|\n",
      "|         Raichur|          Manvi| 1.2|\n",
      "|         Raichur|          Manvi| 1.1|\n",
      "|         Raichur|        Raichur| 1.1|\n",
      "|         Raichur|        Raichur| 1.1|\n",
      "|          Tumkur|        Kunigal| 1.1|\n",
      "|           Udupi|          Udupi| 1.2|\n",
      "+----------------+---------------+----+\n",
      "\n"
     ]
    }
   ],
   "source": [
    "ironlowlevel = spark.sql(\"SELECT District,Block,Iron FROM ironCopy WHERE Iron BETWEEN 1.0 AND 1.2\")\n",
    "ironlowlevel.show(50)"
   ]
  },
  {
   "cell_type": "code",
   "execution_count": 16,
   "metadata": {
    "collapsed": false
   },
   "outputs": [
    {
     "name": "stdout",
     "output_type": "stream",
     "text": [
      "+----------------+------------------+----+\n",
      "|        District|             Block|Iron|\n",
      "+----------------+------------------+----+\n",
      "|        Bagalkot|            Badami| 2.7|\n",
      "|        Bagalkot|            Badami| 1.4|\n",
      "|        Bagalkot|          Bagalkot| 4.8|\n",
      "|        Bagalkot|         Hunugunda| 4.4|\n",
      "|        Bagalkot|         Hunugunda|5.01|\n",
      "|        Bagalkot|            Mudhol| 3.2|\n",
      "|       Bangalore|       Devanahalli| 6.0|\n",
      "|       Bangalore|        Kanakapura| 1.6|\n",
      "|       Bangalore|            Magadi| 1.5|\n",
      "|          Belary|            Hospet| 1.3|\n",
      "|         Belgaum|            Athani| 6.2|\n",
      "|         Belgaum|            Athani|1.33|\n",
      "|         Belgaum|            Athani| 2.2|\n",
      "|         Belgaum|            Athani| 1.5|\n",
      "|         Belgaum|        Bailhongal|1.95|\n",
      "|         Belgaum|             Gokak|1.87|\n",
      "|         Belgaum|             Gokak| 1.2|\n",
      "|         Belgaum|             Gokak| 2.0|\n",
      "|         Belgaum|             Gokak| 1.6|\n",
      "|         Belgaum|           Hukkeri|1.49|\n",
      "|         Belgaum|          Khanapur| 5.5|\n",
      "|         Belgaum|          Khanapur| 8.4|\n",
      "|         Belgaum|           Rayabag| 1.6|\n",
      "|         Belgaum|           Rayabag| 1.6|\n",
      "|         Belgaum|         Saundatti|2.02|\n",
      "|         Bijapur|          Bagewadi| 6.2|\n",
      "|     Chikmagalur|       Chikmagalur| 5.7|\n",
      "|     Chikmagalur|             Kadur| 1.5|\n",
      "|     Chikmagalur|             Kadur| 3.1|\n",
      "|     Chikmagalur| Narasimharajapura| 1.4|\n",
      "|     Chitradurga|        Challakere| 1.3|\n",
      "|     Chitradurga|        Challakere| 5.1|\n",
      "|     Chitradurga|       Chitradurga| 2.1|\n",
      "|     Chitradurga|        Holalakere| 5.4|\n",
      "|     Chitradurga|        Holalakere| 2.4|\n",
      "|     Chitradurga|        Holalakere| 2.9|\n",
      "|     Chitradurga|        Holalakere| 2.4|\n",
      "|     Chitradurga|         Hosadurga| 5.0|\n",
      "|Dakshina Kannada|           Bantwal| 1.2|\n",
      "|Dakshina Kannada|           Bantwal| 1.4|\n",
      "|Dakshina Kannada|            Puttur| 2.0|\n",
      "|Dakshina Kannada|            Puttur| 1.2|\n",
      "|Dakshina Kannada|            Puttur| 4.0|\n",
      "|Dakshina Kannada|             Sulia| 2.0|\n",
      "|Dakshina Kannada|             Sulia| 5.2|\n",
      "|       Davangere|        Channagiri| 4.1|\n",
      "|       Davangere|        Channagiri| 3.4|\n",
      "|       Davangere|     Harapanahalli| 1.9|\n",
      "|       Davangere|     Harapanahalli| 2.2|\n",
      "|       Davangere|     Harapanahalli| 1.3|\n",
      "|       Davangere|          Harihara| 2.2|\n",
      "|       Davangere|          Harihara| 7.8|\n",
      "|       Davangere|           Jagalur| 4.0|\n",
      "|        Gulbarga|          Afzalpur| 1.7|\n",
      "|        Gulbarga|          Afzalpur| 1.5|\n",
      "|        Gulbarga|          Afzalpur| 1.3|\n",
      "|        Gulbarga|         Chincholi| 1.4|\n",
      "|        Gulbarga|           Jevargi| 1.2|\n",
      "|        Gulbarga|             Sedam| 3.0|\n",
      "|        Gulbarga|             Sedam| 1.2|\n",
      "|        Gulbarga|          Shahapur| 1.6|\n",
      "|        Gulbarga|          Shahapur| 1.9|\n",
      "|        Gulbarga|          Shorapur| 1.7|\n",
      "|        Gulbarga|          Shorapur| 2.5|\n",
      "|        Gulbarga|          Shorapur| 2.0|\n",
      "|        Gulbarga|          Shorapur| 1.7|\n",
      "|          Hassan|              Alur| 1.3|\n",
      "|          Hassan|          Arkalgud| 1.5|\n",
      "|          Hassan|             Belur| 1.9|\n",
      "|          Hassan|             Belur| 5.5|\n",
      "|          Hassan|   Channarayapatna| 1.2|\n",
      "|          Hassan|   Channarayapatna| 1.7|\n",
      "|          Kodagu|           Mercara| 1.2|\n",
      "|           Kolar|             Kolar| 2.9|\n",
      "|           Kolar|             Kolar| 1.2|\n",
      "|          Koppal|            Koppal| 7.2|\n",
      "|          Koppal|          Yelburga| 1.2|\n",
      "|          Koppal|          Yelburga| 1.5|\n",
      "|          Koppal|          Yelburga| 1.2|\n",
      "|          Mysore|            Hunsur| 3.2|\n",
      "|          Mysore|  Krishnarajanagar| 2.8|\n",
      "|         Raichur|          Deodurga| 1.4|\n",
      "|         Raichur|         Lingsugur| 5.0|\n",
      "|         Raichur|             Manvi| 9.2|\n",
      "|         Raichur|             Manvi| 9.2|\n",
      "|         Raichur|             Manvi| 5.1|\n",
      "|         Raichur|             Manvi| 1.2|\n",
      "|         Raichur|             Manvi| 3.6|\n",
      "|         Shimoga|        Hosanagara| 2.5|\n",
      "|          Tumkur|Chikanayakanahalli| 7.7|\n",
      "|          Tumkur|Chikanayakanahalli| 2.1|\n",
      "|          Tumkur|Chikanayakanahalli| 1.4|\n",
      "|          Tumkur|         Koratgere| 2.9|\n",
      "|          Tumkur|           Kunigal| 2.1|\n",
      "|          Tumkur|            Tiptur| 2.9|\n",
      "|          Tumkur|        Turuvekere| 3.3|\n",
      "|           Udupi|           Karkala| 8.2|\n",
      "|           Udupi|             Udupi| 1.2|\n",
      "|           Udupi|             Udupi| 2.8|\n",
      "+----------------+------------------+----+\n",
      "\n"
     ]
    }
   ],
   "source": [
    "ironmedlevel = spark.sql(\"SELECT District,Block,Iron FROM ironCopy WHERE Iron BETWEEN 1.2 AND 10\")\n",
    "ironmedlevel.show(100)"
   ]
  },
  {
   "cell_type": "code",
   "execution_count": 17,
   "metadata": {
    "collapsed": false
   },
   "outputs": [
    {
     "name": "stdout",
     "output_type": "stream",
     "text": [
      "+--------+---------------+----+\n",
      "|District|          Block|Iron|\n",
      "+--------+---------------+----+\n",
      "| Belgaum|       Khanapur|16.2|\n",
      "| Belgaum|       Khanapur|10.2|\n",
      "| Bijapur|        Bijapur|15.0|\n",
      "|  Hassan|Channarayapatna|65.0|\n",
      "|  Koppal|       Kushtagi|11.2|\n",
      "| Raichur|       Deodurga|14.9|\n",
      "| Raichur|      Sindhanur|14.1|\n",
      "|  Tumkur|          Gubbi|13.1|\n",
      "|  Tumkur|      Koratgere|12.4|\n",
      "|  Tumkur|       Pavagada|12.0|\n",
      "+--------+---------------+----+\n",
      "\n"
     ]
    }
   ],
   "source": [
    "ironhighlevel = spark.sql(\"SELECT District,Block,Iron FROM ironCopy WHERE Iron > 10\")\n",
    "ironhighlevel.show()"
   ]
  },
  {
   "cell_type": "code",
   "execution_count": 18,
   "metadata": {
    "collapsed": false
   },
   "outputs": [],
   "source": [
    "ironlowlevel.write.csv('ir_low.csv')\n",
    "ironmedlevel.write.csv('ir_med.csv')\n",
    "ironhighlevel.write.csv('ir_high.csv')"
   ]
  },
  {
   "cell_type": "code",
   "execution_count": 21,
   "metadata": {
    "collapsed": false
   },
   "outputs": [
    {
     "name": "stdout",
     "output_type": "stream",
     "text": [
      "+----------------+---------------+----+\n",
      "|             _c0|            _c1| _c2|\n",
      "+----------------+---------------+----+\n",
      "|          Belary|      Siriguppa| 1.0|\n",
      "|         Belgaum|         Athani|1.04|\n",
      "|         Belgaum|         Athani|1.04|\n",
      "|         Belgaum|          Gokak| 1.2|\n",
      "|           Bidar|          Bidar| 1.0|\n",
      "|     Chikmagalur|          Koppa| 1.1|\n",
      "|     Chikmagalur|      Shringeri| 1.1|\n",
      "|Dakshina Kannada|        Bantwal| 1.2|\n",
      "|Dakshina Kannada|         Puttur| 1.1|\n",
      "|Dakshina Kannada|         Puttur| 1.2|\n",
      "|        Gulbarga|       Afzalpur| 1.1|\n",
      "|        Gulbarga|       Chitapur| 1.0|\n",
      "|        Gulbarga|        Jevargi| 1.1|\n",
      "|        Gulbarga|        Jevargi| 1.2|\n",
      "|        Gulbarga|          Sedam| 1.2|\n",
      "|        Gulbarga|       Shorapur| 1.0|\n",
      "|          Hassan|Channarayapatna| 1.2|\n",
      "|          Haveri|     Ranebennur| 1.0|\n",
      "|          Kodagu|        Mercara| 1.2|\n",
      "|           Kolar|          Kolar| 1.2|\n",
      "+----------------+---------------+----+\n",
      "only showing top 20 rows\n",
      "\n"
     ]
    }
   ],
   "source": [
    "df1 = spark.read.csv('/user/SYSTEM/ir_low.csv/low.csv', inferSchema=False, header = False)\n",
    "df1.show()"
   ]
  },
  {
   "cell_type": "code",
   "execution_count": 22,
   "metadata": {
    "collapsed": true
   },
   "outputs": [],
   "source": [
    "df1 = df1.withColumnRenamed(\"_c0\",\"District\")\n",
    "df1 = df1.withColumnRenamed(\"_c1\",\"Block\")\n",
    "df1 = df1.withColumnRenamed(\"_c2\",\"Fluoride\")"
   ]
  },
  {
   "cell_type": "code",
   "execution_count": 23,
   "metadata": {
    "collapsed": false
   },
   "outputs": [
    {
     "name": "stdout",
     "output_type": "stream",
     "text": [
      "+----------------+---------------+--------+\n",
      "|        District|          Block|Fluoride|\n",
      "+----------------+---------------+--------+\n",
      "|          Belary|      Siriguppa|     1.0|\n",
      "|         Belgaum|         Athani|    1.04|\n",
      "|         Belgaum|         Athani|    1.04|\n",
      "|         Belgaum|          Gokak|     1.2|\n",
      "|           Bidar|          Bidar|     1.0|\n",
      "|     Chikmagalur|          Koppa|     1.1|\n",
      "|     Chikmagalur|      Shringeri|     1.1|\n",
      "|Dakshina Kannada|        Bantwal|     1.2|\n",
      "|Dakshina Kannada|         Puttur|     1.1|\n",
      "|Dakshina Kannada|         Puttur|     1.2|\n",
      "|        Gulbarga|       Afzalpur|     1.1|\n",
      "|        Gulbarga|       Chitapur|     1.0|\n",
      "|        Gulbarga|        Jevargi|     1.1|\n",
      "|        Gulbarga|        Jevargi|     1.2|\n",
      "|        Gulbarga|          Sedam|     1.2|\n",
      "|        Gulbarga|       Shorapur|     1.0|\n",
      "|          Hassan|Channarayapatna|     1.2|\n",
      "|          Haveri|     Ranebennur|     1.0|\n",
      "|          Kodagu|        Mercara|     1.2|\n",
      "|           Kolar|          Kolar|     1.2|\n",
      "+----------------+---------------+--------+\n",
      "only showing top 20 rows\n",
      "\n"
     ]
    }
   ],
   "source": [
    "df1.show()"
   ]
  },
  {
   "cell_type": "code",
   "execution_count": 26,
   "metadata": {
    "collapsed": false
   },
   "outputs": [
    {
     "name": "stdout",
     "output_type": "stream",
     "text": [
      "+-------+---------------+----+\n",
      "|    _c0|            _c1| _c2|\n",
      "+-------+---------------+----+\n",
      "|Belgaum|       Khanapur|16.2|\n",
      "|Belgaum|       Khanapur|10.2|\n",
      "|Bijapur|        Bijapur|15.0|\n",
      "| Hassan|Channarayapatna|65.0|\n",
      "| Koppal|       Kushtagi|11.2|\n",
      "|Raichur|       Deodurga|14.9|\n",
      "|Raichur|      Sindhanur|14.1|\n",
      "| Tumkur|          Gubbi|13.1|\n",
      "| Tumkur|      Koratgere|12.4|\n",
      "| Tumkur|       Pavagada|12.0|\n",
      "+-------+---------------+----+\n",
      "\n"
     ]
    }
   ],
   "source": [
    "df2 = spark.read.csv('/user/SYSTEM/ir_high.csv/high.csv', inferSchema=False, header = False)\n",
    "df2.show()"
   ]
  },
  {
   "cell_type": "code",
   "execution_count": 27,
   "metadata": {
    "collapsed": false
   },
   "outputs": [
    {
     "name": "stdout",
     "output_type": "stream",
     "text": [
      "+--------+---------------+--------+\n",
      "|District|          Block|Fluoride|\n",
      "+--------+---------------+--------+\n",
      "| Belgaum|       Khanapur|    16.2|\n",
      "| Belgaum|       Khanapur|    10.2|\n",
      "| Bijapur|        Bijapur|    15.0|\n",
      "|  Hassan|Channarayapatna|    65.0|\n",
      "|  Koppal|       Kushtagi|    11.2|\n",
      "| Raichur|       Deodurga|    14.9|\n",
      "| Raichur|      Sindhanur|    14.1|\n",
      "|  Tumkur|          Gubbi|    13.1|\n",
      "|  Tumkur|      Koratgere|    12.4|\n",
      "|  Tumkur|       Pavagada|    12.0|\n",
      "+--------+---------------+--------+\n",
      "\n"
     ]
    }
   ],
   "source": [
    "df2 = df2.withColumnRenamed(\"_c0\",\"District\")\n",
    "df2 = df2.withColumnRenamed(\"_c1\",\"Block\")\n",
    "df2 = df2.withColumnRenamed(\"_c2\",\"Fluoride\")\n",
    "df2.show()"
   ]
  },
  {
   "cell_type": "code",
   "execution_count": 28,
   "metadata": {
    "collapsed": false
   },
   "outputs": [
    {
     "name": "stdout",
     "output_type": "stream",
     "text": [
      "+---------+-----------+----+\n",
      "|      _c0|        _c1| _c2|\n",
      "+---------+-----------+----+\n",
      "| Bagalkot|     Badami| 2.7|\n",
      "| Bagalkot|     Badami| 1.4|\n",
      "| Bagalkot|   Bagalkot| 4.8|\n",
      "| Bagalkot|  Hunugunda| 4.4|\n",
      "| Bagalkot|  Hunugunda|5.01|\n",
      "| Bagalkot|     Mudhol| 3.2|\n",
      "|Bangalore|Devanahalli| 6.0|\n",
      "|Bangalore| Kanakapura| 1.6|\n",
      "|Bangalore|     Magadi| 1.5|\n",
      "|   Belary|     Hospet| 1.3|\n",
      "|  Belgaum|     Athani| 6.2|\n",
      "|  Belgaum|     Athani|1.33|\n",
      "|  Belgaum|     Athani| 2.2|\n",
      "|  Belgaum|     Athani| 1.5|\n",
      "|  Belgaum| Bailhongal|1.95|\n",
      "|  Belgaum|      Gokak|1.87|\n",
      "|  Belgaum|      Gokak| 1.2|\n",
      "|  Belgaum|      Gokak| 2.0|\n",
      "|  Belgaum|      Gokak| 1.6|\n",
      "|  Belgaum|    Hukkeri|1.49|\n",
      "+---------+-----------+----+\n",
      "only showing top 20 rows\n",
      "\n"
     ]
    }
   ],
   "source": [
    "df3 = spark.read.csv('/user/SYSTEM/ir_med.csv/med.csv', inferSchema=False, header = False)\n",
    "df3.show()"
   ]
  },
  {
   "cell_type": "code",
   "execution_count": 29,
   "metadata": {
    "collapsed": false
   },
   "outputs": [
    {
     "name": "stdout",
     "output_type": "stream",
     "text": [
      "+---------+-----------+--------+\n",
      "| District|      Block|Fluoride|\n",
      "+---------+-----------+--------+\n",
      "| Bagalkot|     Badami|     2.7|\n",
      "| Bagalkot|     Badami|     1.4|\n",
      "| Bagalkot|   Bagalkot|     4.8|\n",
      "| Bagalkot|  Hunugunda|     4.4|\n",
      "| Bagalkot|  Hunugunda|    5.01|\n",
      "| Bagalkot|     Mudhol|     3.2|\n",
      "|Bangalore|Devanahalli|     6.0|\n",
      "|Bangalore| Kanakapura|     1.6|\n",
      "|Bangalore|     Magadi|     1.5|\n",
      "|   Belary|     Hospet|     1.3|\n",
      "|  Belgaum|     Athani|     6.2|\n",
      "|  Belgaum|     Athani|    1.33|\n",
      "|  Belgaum|     Athani|     2.2|\n",
      "|  Belgaum|     Athani|     1.5|\n",
      "|  Belgaum| Bailhongal|    1.95|\n",
      "|  Belgaum|      Gokak|    1.87|\n",
      "|  Belgaum|      Gokak|     1.2|\n",
      "|  Belgaum|      Gokak|     2.0|\n",
      "|  Belgaum|      Gokak|     1.6|\n",
      "|  Belgaum|    Hukkeri|    1.49|\n",
      "+---------+-----------+--------+\n",
      "only showing top 20 rows\n",
      "\n"
     ]
    }
   ],
   "source": [
    "df3 = df3.withColumnRenamed(\"_c0\",\"District\")\n",
    "df3 = df3.withColumnRenamed(\"_c1\",\"Block\")\n",
    "df3 = df3.withColumnRenamed(\"_c2\",\"Fluoride\")\n",
    "df3.show()"
   ]
  },
  {
   "cell_type": "code",
   "execution_count": null,
   "metadata": {
    "collapsed": true
   },
   "outputs": [],
   "source": []
  }
 ],
 "metadata": {
  "kernelspec": {
   "display_name": "Python 2",
   "language": "python",
   "name": "python2"
  },
  "language_info": {
   "codemirror_mode": {
    "name": "ipython",
    "version": 2
   },
   "file_extension": ".py",
   "mimetype": "text/x-python",
   "name": "python",
   "nbconvert_exporter": "python",
   "pygments_lexer": "ipython2",
   "version": "2.7.10"
  }
 },
 "nbformat": 4,
 "nbformat_minor": 0
}
